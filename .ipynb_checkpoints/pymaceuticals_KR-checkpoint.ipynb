{
 "cells": [
  {
   "cell_type": "markdown",
   "metadata": {},
   "source": [
    "## Observations and Insights"
   ]
  },
  {
   "cell_type": "markdown",
   "metadata": {},
   "source": []
  },
  {
   "cell_type": "markdown",
   "metadata": {},
   "source": [
    "## Dependencies and starter code"
   ]
  },
  {
   "cell_type": "code",
   "execution_count": 219,
   "metadata": {},
   "outputs": [
    {
     "data": {
      "text/html": [
       "<div>\n",
       "<style scoped>\n",
       "    .dataframe tbody tr th:only-of-type {\n",
       "        vertical-align: middle;\n",
       "    }\n",
       "\n",
       "    .dataframe tbody tr th {\n",
       "        vertical-align: top;\n",
       "    }\n",
       "\n",
       "    .dataframe thead th {\n",
       "        text-align: right;\n",
       "    }\n",
       "</style>\n",
       "<table border=\"1\" class=\"dataframe\">\n",
       "  <thead>\n",
       "    <tr style=\"text-align: right;\">\n",
       "      <th></th>\n",
       "      <th>Mouse ID</th>\n",
       "      <th>Drug Regimen</th>\n",
       "      <th>Sex</th>\n",
       "      <th>Age_months</th>\n",
       "      <th>Weight (g)</th>\n",
       "      <th>Timepoint</th>\n",
       "      <th>Tumor Volume (mm3)</th>\n",
       "      <th>Metastatic Sites</th>\n",
       "    </tr>\n",
       "  </thead>\n",
       "  <tbody>\n",
       "    <tr>\n",
       "      <th>0</th>\n",
       "      <td>k403</td>\n",
       "      <td>Ramicane</td>\n",
       "      <td>Male</td>\n",
       "      <td>21</td>\n",
       "      <td>16</td>\n",
       "      <td>0</td>\n",
       "      <td>45.000000</td>\n",
       "      <td>0</td>\n",
       "    </tr>\n",
       "    <tr>\n",
       "      <th>1</th>\n",
       "      <td>k403</td>\n",
       "      <td>Ramicane</td>\n",
       "      <td>Male</td>\n",
       "      <td>21</td>\n",
       "      <td>16</td>\n",
       "      <td>5</td>\n",
       "      <td>38.825898</td>\n",
       "      <td>0</td>\n",
       "    </tr>\n",
       "    <tr>\n",
       "      <th>2</th>\n",
       "      <td>k403</td>\n",
       "      <td>Ramicane</td>\n",
       "      <td>Male</td>\n",
       "      <td>21</td>\n",
       "      <td>16</td>\n",
       "      <td>10</td>\n",
       "      <td>35.014271</td>\n",
       "      <td>1</td>\n",
       "    </tr>\n",
       "    <tr>\n",
       "      <th>3</th>\n",
       "      <td>k403</td>\n",
       "      <td>Ramicane</td>\n",
       "      <td>Male</td>\n",
       "      <td>21</td>\n",
       "      <td>16</td>\n",
       "      <td>15</td>\n",
       "      <td>34.223992</td>\n",
       "      <td>1</td>\n",
       "    </tr>\n",
       "    <tr>\n",
       "      <th>4</th>\n",
       "      <td>k403</td>\n",
       "      <td>Ramicane</td>\n",
       "      <td>Male</td>\n",
       "      <td>21</td>\n",
       "      <td>16</td>\n",
       "      <td>20</td>\n",
       "      <td>32.997729</td>\n",
       "      <td>1</td>\n",
       "    </tr>\n",
       "    <tr>\n",
       "      <th>...</th>\n",
       "      <td>...</td>\n",
       "      <td>...</td>\n",
       "      <td>...</td>\n",
       "      <td>...</td>\n",
       "      <td>...</td>\n",
       "      <td>...</td>\n",
       "      <td>...</td>\n",
       "      <td>...</td>\n",
       "    </tr>\n",
       "    <tr>\n",
       "      <th>1888</th>\n",
       "      <td>z969</td>\n",
       "      <td>Naftisol</td>\n",
       "      <td>Male</td>\n",
       "      <td>9</td>\n",
       "      <td>30</td>\n",
       "      <td>25</td>\n",
       "      <td>63.145652</td>\n",
       "      <td>2</td>\n",
       "    </tr>\n",
       "    <tr>\n",
       "      <th>1889</th>\n",
       "      <td>z969</td>\n",
       "      <td>Naftisol</td>\n",
       "      <td>Male</td>\n",
       "      <td>9</td>\n",
       "      <td>30</td>\n",
       "      <td>30</td>\n",
       "      <td>65.841013</td>\n",
       "      <td>3</td>\n",
       "    </tr>\n",
       "    <tr>\n",
       "      <th>1890</th>\n",
       "      <td>z969</td>\n",
       "      <td>Naftisol</td>\n",
       "      <td>Male</td>\n",
       "      <td>9</td>\n",
       "      <td>30</td>\n",
       "      <td>35</td>\n",
       "      <td>69.176246</td>\n",
       "      <td>4</td>\n",
       "    </tr>\n",
       "    <tr>\n",
       "      <th>1891</th>\n",
       "      <td>z969</td>\n",
       "      <td>Naftisol</td>\n",
       "      <td>Male</td>\n",
       "      <td>9</td>\n",
       "      <td>30</td>\n",
       "      <td>40</td>\n",
       "      <td>70.314904</td>\n",
       "      <td>4</td>\n",
       "    </tr>\n",
       "    <tr>\n",
       "      <th>1892</th>\n",
       "      <td>z969</td>\n",
       "      <td>Naftisol</td>\n",
       "      <td>Male</td>\n",
       "      <td>9</td>\n",
       "      <td>30</td>\n",
       "      <td>45</td>\n",
       "      <td>73.867845</td>\n",
       "      <td>4</td>\n",
       "    </tr>\n",
       "  </tbody>\n",
       "</table>\n",
       "<p>1893 rows × 8 columns</p>\n",
       "</div>"
      ],
      "text/plain": [
       "     Mouse ID Drug Regimen   Sex  Age_months  Weight (g)  Timepoint  \\\n",
       "0        k403     Ramicane  Male          21          16          0   \n",
       "1        k403     Ramicane  Male          21          16          5   \n",
       "2        k403     Ramicane  Male          21          16         10   \n",
       "3        k403     Ramicane  Male          21          16         15   \n",
       "4        k403     Ramicane  Male          21          16         20   \n",
       "...       ...          ...   ...         ...         ...        ...   \n",
       "1888     z969     Naftisol  Male           9          30         25   \n",
       "1889     z969     Naftisol  Male           9          30         30   \n",
       "1890     z969     Naftisol  Male           9          30         35   \n",
       "1891     z969     Naftisol  Male           9          30         40   \n",
       "1892     z969     Naftisol  Male           9          30         45   \n",
       "\n",
       "      Tumor Volume (mm3)  Metastatic Sites  \n",
       "0              45.000000                 0  \n",
       "1              38.825898                 0  \n",
       "2              35.014271                 1  \n",
       "3              34.223992                 1  \n",
       "4              32.997729                 1  \n",
       "...                  ...               ...  \n",
       "1888           63.145652                 2  \n",
       "1889           65.841013                 3  \n",
       "1890           69.176246                 4  \n",
       "1891           70.314904                 4  \n",
       "1892           73.867845                 4  \n",
       "\n",
       "[1893 rows x 8 columns]"
      ]
     },
     "execution_count": 219,
     "metadata": {},
     "output_type": "execute_result"
    }
   ],
   "source": [
    "# Dependencies and Setup\n",
    "import matplotlib.pyplot as plt\n",
    "import pandas as pd\n",
    "import scipy.stats as st\n",
    "import numpy as np\n",
    "\n",
    "# Study data files\n",
    "mouse_metadata = \"data/Mouse_metadata.csv\"\n",
    "study_results = \"data/Study_results.csv\"\n",
    "\n",
    "# Read the mouse data and the study results\n",
    "mouse_metadata = pd.read_csv(mouse_metadata)\n",
    "study_results = pd.read_csv(study_results)\n",
    "\n",
    "# Combine the data into a single dataset\n",
    "mouse_metadata_study_results_combined = pd.DataFrame(pd.merge(mouse_metadata ,study_results, on=\"Mouse ID\", how=\"inner\"))\n",
    "\n",
    "mouse_metadata_study_results_combined\n"
   ]
  },
  {
   "cell_type": "code",
   "execution_count": 255,
   "metadata": {},
   "outputs": [],
   "source": [
    "tumor_study_result_group = mouse_metadata_study_results_combined.groupby(\"Drug Regimen\")\n"
   ]
  },
  {
   "cell_type": "code",
   "execution_count": 256,
   "metadata": {},
   "outputs": [
    {
     "data": {
      "text/html": [
       "<div>\n",
       "<style scoped>\n",
       "    .dataframe tbody tr th:only-of-type {\n",
       "        vertical-align: middle;\n",
       "    }\n",
       "\n",
       "    .dataframe tbody tr th {\n",
       "        vertical-align: top;\n",
       "    }\n",
       "\n",
       "    .dataframe thead th {\n",
       "        text-align: right;\n",
       "    }\n",
       "</style>\n",
       "<table border=\"1\" class=\"dataframe\">\n",
       "  <thead>\n",
       "    <tr style=\"text-align: right;\">\n",
       "      <th></th>\n",
       "      <th>Total Datapoints</th>\n",
       "    </tr>\n",
       "    <tr>\n",
       "      <th>Drug Regimen</th>\n",
       "      <th></th>\n",
       "    </tr>\n",
       "  </thead>\n",
       "  <tbody>\n",
       "    <tr>\n",
       "      <th>Capomulin</th>\n",
       "      <td>230</td>\n",
       "    </tr>\n",
       "    <tr>\n",
       "      <th>Ramicane</th>\n",
       "      <td>228</td>\n",
       "    </tr>\n",
       "    <tr>\n",
       "      <th>Ketapril</th>\n",
       "      <td>188</td>\n",
       "    </tr>\n",
       "    <tr>\n",
       "      <th>Naftisol</th>\n",
       "      <td>186</td>\n",
       "    </tr>\n",
       "    <tr>\n",
       "      <th>Zoniferol</th>\n",
       "      <td>182</td>\n",
       "    </tr>\n",
       "    <tr>\n",
       "      <th>Placebo</th>\n",
       "      <td>181</td>\n",
       "    </tr>\n",
       "    <tr>\n",
       "      <th>Stelasyn</th>\n",
       "      <td>181</td>\n",
       "    </tr>\n",
       "    <tr>\n",
       "      <th>Ceftamin</th>\n",
       "      <td>178</td>\n",
       "    </tr>\n",
       "    <tr>\n",
       "      <th>Infubinol</th>\n",
       "      <td>178</td>\n",
       "    </tr>\n",
       "    <tr>\n",
       "      <th>Propriva</th>\n",
       "      <td>161</td>\n",
       "    </tr>\n",
       "  </tbody>\n",
       "</table>\n",
       "</div>"
      ],
      "text/plain": [
       "              Total Datapoints\n",
       "Drug Regimen                  \n",
       "Capomulin                  230\n",
       "Ramicane                   228\n",
       "Ketapril                   188\n",
       "Naftisol                   186\n",
       "Zoniferol                  182\n",
       "Placebo                    181\n",
       "Stelasyn                   181\n",
       "Ceftamin                   178\n",
       "Infubinol                  178\n",
       "Propriva                   161"
      ]
     },
     "execution_count": 256,
     "metadata": {},
     "output_type": "execute_result"
    }
   ],
   "source": [
    "datapoints_per_regimen = pd.DataFrame(tumor_study_result_group[\"Tumor Volume (mm3)\"].count()).rename(columns={\"Tumor Volume (mm3)\": \"Total Datapoints\"})\n",
    "regimen_df = datapoints_per_regimen.rename(columns={\"Drug Regimen\": \"Regimen\"})\n",
    "\n",
    "regimen_df = regimen_df.sort_values(\"Total Datapoints\", ascending=False)\n",
    "\n",
    "regimen_df"
   ]
  },
  {
   "cell_type": "markdown",
   "metadata": {},
   "source": [
    "## Summary statistics"
   ]
  },
  {
   "cell_type": "code",
   "execution_count": 262,
   "metadata": {},
   "outputs": [
    {
     "data": {
      "text/html": [
       "<div>\n",
       "<style scoped>\n",
       "    .dataframe tbody tr th:only-of-type {\n",
       "        vertical-align: middle;\n",
       "    }\n",
       "\n",
       "    .dataframe tbody tr th {\n",
       "        vertical-align: top;\n",
       "    }\n",
       "\n",
       "    .dataframe thead th {\n",
       "        text-align: right;\n",
       "    }\n",
       "</style>\n",
       "<table border=\"1\" class=\"dataframe\">\n",
       "  <thead>\n",
       "    <tr style=\"text-align: right;\">\n",
       "      <th></th>\n",
       "      <th>Tumor Volume (mm3)</th>\n",
       "    </tr>\n",
       "  </thead>\n",
       "  <tbody>\n",
       "    <tr>\n",
       "      <th>mean</th>\n",
       "      <td>50.448381</td>\n",
       "    </tr>\n",
       "    <tr>\n",
       "      <th>median</th>\n",
       "      <td>48.951474</td>\n",
       "    </tr>\n",
       "    <tr>\n",
       "      <th>var</th>\n",
       "      <td>79.116074</td>\n",
       "    </tr>\n",
       "    <tr>\n",
       "      <th>std</th>\n",
       "      <td>8.894722</td>\n",
       "    </tr>\n",
       "    <tr>\n",
       "      <th>sem</th>\n",
       "      <td>0.204436</td>\n",
       "    </tr>\n",
       "  </tbody>\n",
       "</table>\n",
       "</div>"
      ],
      "text/plain": [
       "        Tumor Volume (mm3)\n",
       "mean             50.448381\n",
       "median           48.951474\n",
       "var              79.116074\n",
       "std               8.894722\n",
       "sem               0.204436"
      ]
     },
     "execution_count": 262,
     "metadata": {},
     "output_type": "execute_result"
    }
   ],
   "source": [
    "# Generate a summary statistics table of mean, median, variance, standard deviation, and SEM of the tumor volume for each regimen\n",
    "\n",
    "tumor_summary_stats =pd.DataFrame(mouse_metadata_study_results_combined[\"Tumor Volume (mm3)\"].agg(['mean', 'median', 'var', 'std', 'sem']))\n",
    "\n",
    "tumor_summary_stats"
   ]
  },
  {
   "cell_type": "code",
   "execution_count": 224,
   "metadata": {},
   "outputs": [],
   "source": [
    "colors= [\"yellow\",\"green\",\"lightblue\",\"orange\",\"red\",\"purple\",\"pink\",\"yellowgreen\",\"lightskyblue\",\"lightcoral\"]"
   ]
  },
  {
   "cell_type": "markdown",
   "metadata": {},
   "source": [
    "## Bar plots"
   ]
  },
  {
   "cell_type": "code",
   "execution_count": 225,
   "metadata": {},
   "outputs": [
    {
     "data": {
      "image/png": "[encoded data removed]",
      "text/plain": [
       "<Figure size 1080x720 with 1 Axes>"
      ]
     },
     "metadata": {
      "needs_background": "light"
     },
     "output_type": "display_data"
    }
   ],
   "source": [
    "# Generate a bar plot showing number of data points for each treatment regimen using pandas\n",
    "\n",
    "\n",
    "\n",
    "regimen_df.plot(kind=\"bar\", figsize=(15,10), color=[colors], alpha=0.75, align=\"center\")\n",
    "plt.xticks(rotation=\"0\")\n",
    "\n",
    "# Set title for the chart \n",
    "plt.title(\"Total Datapoints by Regimen\")\n",
    "\n",
    "#set labels for the x and y axis\n",
    "plt.xlabel(\"Treatment Regimen\")\n",
    "plt.ylabel(\"Total Datapoints\")\n",
    "\n",
    "#Show pandas plot\n",
    "plt.show()\n"
   ]
  },
  {
   "cell_type": "code",
   "execution_count": 226,
   "metadata": {},
   "outputs": [],
   "source": [
    "# Filter the DataFrame down only to those columns to chart\n",
    "\n"
   ]
  },
  {
   "cell_type": "code",
   "execution_count": 227,
   "metadata": {},
   "outputs": [],
   "source": [
    "# use comprehension list to get series for x axis\n",
    "x_ax =[value for value in mouse_metadata_study_results_combined[\"Drug Regimen\"].unique()]\n",
    "\n",
    "x_axis = np.arange(len(x_ax))\n",
    "tick_locations = [value for value in x_ax]\n"
   ]
  },
  {
   "cell_type": "code",
   "execution_count": 228,
   "metadata": {},
   "outputs": [
    {
     "data": {
      "text/plain": [
       "([<matplotlib.axis.XTick at 0x25576f7d9c8>,\n",
       "  <matplotlib.axis.XTick at 0x25576f79688>,\n",
       "  <matplotlib.axis.XTick at 0x25576faa0c8>,\n",
       "  <matplotlib.axis.XTick at 0x25576fd32c8>,\n",
       "  <matplotlib.axis.XTick at 0x25576fd3988>,\n",
       "  <matplotlib.axis.XTick at 0x25576fd9608>,\n",
       "  <matplotlib.axis.XTick at 0x25576fd3b48>,\n",
       "  <matplotlib.axis.XTick at 0x25576fdc8c8>,\n",
       "  <matplotlib.axis.XTick at 0x25576fe4188>,\n",
       "  <matplotlib.axis.XTick at 0x25576fe6348>],\n",
       " <a list of 10 Text xticklabel objects>)"
      ]
     },
     "execution_count": 228,
     "metadata": {},
     "output_type": "execute_result"
    },
    {
     "data": {
      "image/png": "[encoded data removed]",
      "text/plain": [
       "<Figure size 1080x720 with 1 Axes>"
      ]
     },
     "metadata": {
      "needs_background": "light"
     },
     "output_type": "display_data"
    }
   ],
   "source": [
    "# Create a list indicating where to write x labels and set figure size to adjust for space\n",
    "colors= [\"yellow\",\"green\",\"lightblue\",\"orange\",\"red\",\"purple\",\"pink\",\"yellowgreen\",\"lightskyblue\",\"lightcoral\"]\n",
    "plt.figure(figsize=(15,10))\n",
    "plt.bar(x_ax, datapoints_per_regimen[\"Total Datapoints\"], color=colors, alpha=.75, align=\"center\")\n",
    "plt.title(\"Total Datapoints by Regimen\")\n",
    "plt.xlabel(\"Treatment Regimen\")\n",
    "plt.ylabel(\"Total Datapoints\")\n",
    "plt.xticks(tick_locations, x_ax, rotation=\"0\" )\n"
   ]
  },
  {
   "cell_type": "code",
   "execution_count": 229,
   "metadata": {},
   "outputs": [
    {
     "data": {
      "text/plain": [
       "([<matplotlib.axis.XTick at 0x25577059988>,\n",
       "  <matplotlib.axis.XTick at 0x25577055908>,\n",
       "  <matplotlib.axis.XTick at 0x25577085508>,\n",
       "  <matplotlib.axis.XTick at 0x255770a0248>,\n",
       "  <matplotlib.axis.XTick at 0x255770a0b48>,\n",
       "  <matplotlib.axis.XTick at 0x255770a4c08>,\n",
       "  <matplotlib.axis.XTick at 0x255770a8748>,\n",
       "  <matplotlib.axis.XTick at 0x255770ac648>,\n",
       "  <matplotlib.axis.XTick at 0x255770b0488>,\n",
       "  <matplotlib.axis.XTick at 0x255770b47c8>],\n",
       " <a list of 10 Text xticklabel objects>)"
      ]
     },
     "execution_count": 229,
     "metadata": {},
     "output_type": "execute_result"
    },
    {
     "data": {
      "image/png": "[encoded data removed]",
      "text/plain": [
       "<Figure size 1080x720 with 1 Axes>"
      ]
     },
     "metadata": {
      "needs_background": "light"
     },
     "output_type": "display_data"
    }
   ],
   "source": [
    "# Generate a bar plot showing number of data points for each treatment regimen using pyplot\n",
    "\n",
    "# use comprehension list to get series for x and y axis\n",
    "x_axis =[value for value in mouse_metadata_study_results_combined[\"Drug Regimen\"].unique()]\n",
    "y_axis = [value for value in datapoints_per_regimen[\"Total Datapoints\"]]\n",
    "\n",
    "colors= [\"yellow\",\"green\",\"lightblue\",\"orange\",\"red\",\"purple\",\"pink\",\"yellowgreen\",\"lightskyblue\",\"lightcoral\"]\n",
    "tick_locations = []\n",
    "for x in x_axis:\n",
    "    tick_locations.append(x)\n",
    "\n",
    "plt.figure(figsize=(15,10))\n",
    "plt.xlim(-0.75, len(x_axis) -.25)\n",
    "plt.ylim(0, max(y_axis) + 10)\n",
    "\n",
    "\n",
    "plt.bar(x_axis, y_axis, color=colors, alpha=0.75, align=\"center\")\n",
    "plt.title(\"Total Datapoints by Regimen\")\n",
    "plt.xlabel(\"Treatment Regimen\")\n",
    "plt.ylabel(\"Total Datapoints\")\n",
    "\n",
    "plt.xticks(tick_locations, x_axis)\n",
    "\n",
    "\n",
    "\n"
   ]
  },
  {
   "cell_type": "code",
   "execution_count": 230,
   "metadata": {},
   "outputs": [],
   "source": [
    "# Create a list indicating where to write x labels and set figure size to adjust for space\n"
   ]
  },
  {
   "cell_type": "code",
   "execution_count": 231,
   "metadata": {},
   "outputs": [],
   "source": [
    "gender_group = mouse_metadata_study_results_combined.groupby(\"Sex\")\n",
    "\n",
    "male_mice = mouse_metadata_study_results_combined.loc[mouse_metadata_study_results_combined[\"Sex\"] == \"Male\"].count()\n",
    "male_count = male_mice[\"Sex\"]\n",
    "\n",
    "female_mice = mouse_metadata_study_results_combined.loc[mouse_metadata_study_results_combined[\"Sex\"] == \"Female\"].count()\n",
    "female_count = female_mice[\"Sex\"]"
   ]
  },
  {
   "cell_type": "markdown",
   "metadata": {},
   "source": [
    "## Pie plots"
   ]
  },
  {
   "cell_type": "code",
   "execution_count": 232,
   "metadata": {},
   "outputs": [
    {
     "data": {
      "text/plain": [
       "<matplotlib.axes._subplots.AxesSubplot at 0x25577116c48>"
      ]
     },
     "execution_count": 232,
     "metadata": {},
     "output_type": "execute_result"
    },
    {
     "data": {
      "image/png": "[encoded data removed]",
      "text/plain": [
       "<Figure size 324x324 with 1 Axes>"
      ]
     },
     "metadata": {},
     "output_type": "display_data"
    }
   ],
   "source": [
    "# Generate a pie plot showing the distribution of female versus male mice using pandas\n",
    "\n",
    "df = pd.DataFrame({\"Count\": [male_count, female_count]},\n",
    "                   index=[\"males\", \"females\"])\n",
    "\n",
    "sizes = [male_count, female_count]\n",
    "\n",
    "colors = [\"lightblue\", \"pink\"]\n",
    "\n",
    "df.plot.pie(y=\"Count\", figsize=(4.5, 4.5), subplots=False, startangle=120, colors=colors, autopct=\"%1.1f%%\", legend=False)\n"
   ]
  },
  {
   "cell_type": "code",
   "execution_count": 233,
   "metadata": {},
   "outputs": [
    {
     "data": {
      "text/plain": [
       "(-1.1108169443723674,\n",
       " 1.13554197729537,\n",
       " -1.1103731586818266,\n",
       " 1.1357968312586944)"
      ]
     },
     "execution_count": 233,
     "metadata": {},
     "output_type": "execute_result"
    },
    {
     "data": {
      "image/png": "[encoded data removed]",
      "text/plain": [
       "<Figure size 432x288 with 1 Axes>"
      ]
     },
     "metadata": {},
     "output_type": "display_data"
    }
   ],
   "source": [
    "# Generate a pie plot showing the distribution of female versus male mice using pyplot\n",
    "\n",
    "\n",
    "# Labels for the sections of our pie chart\n",
    "labels = [\"males\", \"females\"]\n",
    "\n",
    "# The values of each section of the pie chart\n",
    "sizes = [male_count, female_count]\n",
    "\n",
    "# The colors of each section of the pie chart\n",
    "colors = [\"lightblue\", \"pink\"]\n",
    "\n",
    "# Tells matplotlib to seperate the \"Humans\" section from the others\n",
    "#explode = (0.1, 0, 0, 0)\n",
    "\n",
    "plt.pie(sizes, labels=labels, colors=colors,\n",
    "        autopct=\"%1.1f%%\", shadow=False, startangle=120)\n",
    "\n",
    "plt.axis(\"equal\")"
   ]
  },
  {
   "cell_type": "markdown",
   "metadata": {},
   "source": [
    "## Quartiles, outliers and boxplots"
   ]
  },
  {
   "cell_type": "code",
   "execution_count": 234,
   "metadata": {},
   "outputs": [],
   "source": [
    "most_promising_df = regimen_df.head(4)\n",
    "\n",
    "mouse_metadata_study_results_combined[\"Metastatic Sites\"]\n",
    "most_promising_list = pd.Series([most_promising_df])\n"
   ]
  },
  {
   "cell_type": "code",
   "execution_count": 235,
   "metadata": {},
   "outputs": [],
   "source": [
    "# to get four of the most promising treatment regimens I need to see which Drug Regimen has \n",
    "# shown the largest reduction in the Tumor over the course of the experiment\n",
    "\n",
    "# STEPS:\n",
    "# 1. Get Tumor size at min Time point\n",
    "# 2. Get Tumor size at max Timepoint\n",
    "# 3. Determine which are the 3 most effective Drug Regimen for Reducing the Tumor based on the data\n",
    "# 4. Compare the top 3 with Capomulin, the Drug Regimen we are most interested in\n",
    "\n",
    "\n",
    "# create a structure to group by Mouse ID\n",
    "mouse_grouping = mouse_metadata_study_results_combined.groupby(\"Mouse ID\")\n"
   ]
  },
  {
   "cell_type": "code",
   "execution_count": 236,
   "metadata": {},
   "outputs": [
    {
     "data": {
      "text/html": [
       "<div>\n",
       "<style scoped>\n",
       "    .dataframe tbody tr th:only-of-type {\n",
       "        vertical-align: middle;\n",
       "    }\n",
       "\n",
       "    .dataframe tbody tr th {\n",
       "        vertical-align: top;\n",
       "    }\n",
       "\n",
       "    .dataframe thead th {\n",
       "        text-align: right;\n",
       "    }\n",
       "</style>\n",
       "<table border=\"1\" class=\"dataframe\">\n",
       "  <thead>\n",
       "    <tr style=\"text-align: right;\">\n",
       "      <th></th>\n",
       "      <th>Mouse ID</th>\n",
       "      <th>Timepoint</th>\n",
       "      <th>Drug Regimen</th>\n",
       "      <th>Sex</th>\n",
       "      <th>Age_months</th>\n",
       "      <th>T0_Weight (g)</th>\n",
       "      <th>T0_Tumor Volume (mm3)</th>\n",
       "      <th>T0_Metastatic Sites</th>\n",
       "    </tr>\n",
       "  </thead>\n",
       "  <tbody>\n",
       "    <tr>\n",
       "      <th>0</th>\n",
       "      <td>a203</td>\n",
       "      <td>0</td>\n",
       "      <td>Infubinol</td>\n",
       "      <td>Female</td>\n",
       "      <td>20</td>\n",
       "      <td>23</td>\n",
       "      <td>45.0</td>\n",
       "      <td>0</td>\n",
       "    </tr>\n",
       "    <tr>\n",
       "      <th>1</th>\n",
       "      <td>a251</td>\n",
       "      <td>0</td>\n",
       "      <td>Infubinol</td>\n",
       "      <td>Female</td>\n",
       "      <td>21</td>\n",
       "      <td>25</td>\n",
       "      <td>45.0</td>\n",
       "      <td>0</td>\n",
       "    </tr>\n",
       "    <tr>\n",
       "      <th>2</th>\n",
       "      <td>a262</td>\n",
       "      <td>0</td>\n",
       "      <td>Placebo</td>\n",
       "      <td>Female</td>\n",
       "      <td>17</td>\n",
       "      <td>29</td>\n",
       "      <td>45.0</td>\n",
       "      <td>0</td>\n",
       "    </tr>\n",
       "    <tr>\n",
       "      <th>3</th>\n",
       "      <td>a275</td>\n",
       "      <td>0</td>\n",
       "      <td>Ceftamin</td>\n",
       "      <td>Female</td>\n",
       "      <td>20</td>\n",
       "      <td>28</td>\n",
       "      <td>45.0</td>\n",
       "      <td>0</td>\n",
       "    </tr>\n",
       "    <tr>\n",
       "      <th>4</th>\n",
       "      <td>a366</td>\n",
       "      <td>0</td>\n",
       "      <td>Stelasyn</td>\n",
       "      <td>Female</td>\n",
       "      <td>16</td>\n",
       "      <td>29</td>\n",
       "      <td>45.0</td>\n",
       "      <td>0</td>\n",
       "    </tr>\n",
       "    <tr>\n",
       "      <th>...</th>\n",
       "      <td>...</td>\n",
       "      <td>...</td>\n",
       "      <td>...</td>\n",
       "      <td>...</td>\n",
       "      <td>...</td>\n",
       "      <td>...</td>\n",
       "      <td>...</td>\n",
       "      <td>...</td>\n",
       "    </tr>\n",
       "    <tr>\n",
       "      <th>245</th>\n",
       "      <td>z435</td>\n",
       "      <td>0</td>\n",
       "      <td>Propriva</td>\n",
       "      <td>Female</td>\n",
       "      <td>12</td>\n",
       "      <td>26</td>\n",
       "      <td>45.0</td>\n",
       "      <td>0</td>\n",
       "    </tr>\n",
       "    <tr>\n",
       "      <th>246</th>\n",
       "      <td>z578</td>\n",
       "      <td>0</td>\n",
       "      <td>Ramicane</td>\n",
       "      <td>Male</td>\n",
       "      <td>11</td>\n",
       "      <td>16</td>\n",
       "      <td>45.0</td>\n",
       "      <td>0</td>\n",
       "    </tr>\n",
       "    <tr>\n",
       "      <th>247</th>\n",
       "      <td>z581</td>\n",
       "      <td>0</td>\n",
       "      <td>Infubinol</td>\n",
       "      <td>Female</td>\n",
       "      <td>24</td>\n",
       "      <td>25</td>\n",
       "      <td>45.0</td>\n",
       "      <td>0</td>\n",
       "    </tr>\n",
       "    <tr>\n",
       "      <th>248</th>\n",
       "      <td>z795</td>\n",
       "      <td>0</td>\n",
       "      <td>Naftisol</td>\n",
       "      <td>Female</td>\n",
       "      <td>13</td>\n",
       "      <td>29</td>\n",
       "      <td>45.0</td>\n",
       "      <td>0</td>\n",
       "    </tr>\n",
       "    <tr>\n",
       "      <th>249</th>\n",
       "      <td>z969</td>\n",
       "      <td>0</td>\n",
       "      <td>Naftisol</td>\n",
       "      <td>Male</td>\n",
       "      <td>9</td>\n",
       "      <td>30</td>\n",
       "      <td>45.0</td>\n",
       "      <td>0</td>\n",
       "    </tr>\n",
       "  </tbody>\n",
       "</table>\n",
       "<p>250 rows × 8 columns</p>\n",
       "</div>"
      ],
      "text/plain": [
       "    Mouse ID  Timepoint Drug Regimen     Sex  Age_months  T0_Weight (g)  \\\n",
       "0       a203          0    Infubinol  Female          20             23   \n",
       "1       a251          0    Infubinol  Female          21             25   \n",
       "2       a262          0      Placebo  Female          17             29   \n",
       "3       a275          0     Ceftamin  Female          20             28   \n",
       "4       a366          0     Stelasyn  Female          16             29   \n",
       "..       ...        ...          ...     ...         ...            ...   \n",
       "245     z435          0     Propriva  Female          12             26   \n",
       "246     z578          0     Ramicane    Male          11             16   \n",
       "247     z581          0    Infubinol  Female          24             25   \n",
       "248     z795          0     Naftisol  Female          13             29   \n",
       "249     z969          0     Naftisol    Male           9             30   \n",
       "\n",
       "     T0_Tumor Volume (mm3)  T0_Metastatic Sites  \n",
       "0                     45.0                    0  \n",
       "1                     45.0                    0  \n",
       "2                     45.0                    0  \n",
       "3                     45.0                    0  \n",
       "4                     45.0                    0  \n",
       "..                     ...                  ...  \n",
       "245                   45.0                    0  \n",
       "246                   45.0                    0  \n",
       "247                   45.0                    0  \n",
       "248                   45.0                    0  \n",
       "249                   45.0                    0  \n",
       "\n",
       "[250 rows x 8 columns]"
      ]
     },
     "execution_count": 236,
     "metadata": {},
     "output_type": "execute_result"
    }
   ],
   "source": [
    "#Min Datapoints\n",
    "# get the min and max Timepoint for each mouse in the experiment\n",
    "mouse_min_datapoints = mouse_grouping[\"Timepoint\"].min()\n",
    "# reset the index\n",
    "mouse_min_datapoints.reset_index()\n",
    "\n",
    "#create a data frame to get all the datapoints which correspond to the min(Timepoint) for each Mouse\n",
    "#from the combined dataset\n",
    "mouse_min_df = pd.merge(mouse_min_datapoints, mouse_metadata_study_results_combined, on=[\"Mouse ID\", \"Timepoint\"], how=\"left\")\n",
    "mouse_min_df = mouse_min_df.rename(columns={\"Weight (g)\": \"T0_Weight (g)\", \"Tumor Volume (mm3)\" : \"T0_Tumor Volume (mm3)\",\"Metastatic Sites\" : \"T0_Metastatic Sites\" })\n",
    "#mouse_min_df[[\"Mouse ID\", \"Drug Regimen\",\"Sex\", \"T0_Age_months\", \"T0_Weight (g)\", \"T0_Tumor Volume (mm3)\", \"T0_Metastatic Sites\"]]\n",
    "mouse_min_df"
   ]
  },
  {
   "cell_type": "code",
   "execution_count": 237,
   "metadata": {},
   "outputs": [
    {
     "data": {
      "text/html": [
       "<div>\n",
       "<style scoped>\n",
       "    .dataframe tbody tr th:only-of-type {\n",
       "        vertical-align: middle;\n",
       "    }\n",
       "\n",
       "    .dataframe tbody tr th {\n",
       "        vertical-align: top;\n",
       "    }\n",
       "\n",
       "    .dataframe thead th {\n",
       "        text-align: right;\n",
       "    }\n",
       "</style>\n",
       "<table border=\"1\" class=\"dataframe\">\n",
       "  <thead>\n",
       "    <tr style=\"text-align: right;\">\n",
       "      <th></th>\n",
       "      <th>Mouse ID</th>\n",
       "      <th>Drug Regimen</th>\n",
       "      <th>Tumor Volume (mm3)</th>\n",
       "      <th>Metastatic Sites</th>\n",
       "    </tr>\n",
       "  </thead>\n",
       "  <tbody>\n",
       "    <tr>\n",
       "      <th>0</th>\n",
       "      <td>a203</td>\n",
       "      <td>Infubinol</td>\n",
       "      <td>67.973419</td>\n",
       "      <td>2</td>\n",
       "    </tr>\n",
       "    <tr>\n",
       "      <th>1</th>\n",
       "      <td>a251</td>\n",
       "      <td>Infubinol</td>\n",
       "      <td>65.525743</td>\n",
       "      <td>1</td>\n",
       "    </tr>\n",
       "    <tr>\n",
       "      <th>2</th>\n",
       "      <td>a262</td>\n",
       "      <td>Placebo</td>\n",
       "      <td>70.717621</td>\n",
       "      <td>4</td>\n",
       "    </tr>\n",
       "    <tr>\n",
       "      <th>3</th>\n",
       "      <td>a275</td>\n",
       "      <td>Ceftamin</td>\n",
       "      <td>62.999356</td>\n",
       "      <td>3</td>\n",
       "    </tr>\n",
       "    <tr>\n",
       "      <th>4</th>\n",
       "      <td>a366</td>\n",
       "      <td>Stelasyn</td>\n",
       "      <td>63.440686</td>\n",
       "      <td>1</td>\n",
       "    </tr>\n",
       "    <tr>\n",
       "      <th>...</th>\n",
       "      <td>...</td>\n",
       "      <td>...</td>\n",
       "      <td>...</td>\n",
       "      <td>...</td>\n",
       "    </tr>\n",
       "    <tr>\n",
       "      <th>244</th>\n",
       "      <td>z435</td>\n",
       "      <td>Propriva</td>\n",
       "      <td>48.710661</td>\n",
       "      <td>0</td>\n",
       "    </tr>\n",
       "    <tr>\n",
       "      <th>245</th>\n",
       "      <td>z578</td>\n",
       "      <td>Ramicane</td>\n",
       "      <td>30.638696</td>\n",
       "      <td>0</td>\n",
       "    </tr>\n",
       "    <tr>\n",
       "      <th>246</th>\n",
       "      <td>z581</td>\n",
       "      <td>Infubinol</td>\n",
       "      <td>62.754451</td>\n",
       "      <td>3</td>\n",
       "    </tr>\n",
       "    <tr>\n",
       "      <th>247</th>\n",
       "      <td>z795</td>\n",
       "      <td>Naftisol</td>\n",
       "      <td>65.741070</td>\n",
       "      <td>3</td>\n",
       "    </tr>\n",
       "    <tr>\n",
       "      <th>248</th>\n",
       "      <td>z969</td>\n",
       "      <td>Naftisol</td>\n",
       "      <td>73.867845</td>\n",
       "      <td>4</td>\n",
       "    </tr>\n",
       "  </tbody>\n",
       "</table>\n",
       "<p>249 rows × 4 columns</p>\n",
       "</div>"
      ],
      "text/plain": [
       "    Mouse ID Drug Regimen  Tumor Volume (mm3)  Metastatic Sites\n",
       "0       a203    Infubinol           67.973419                 2\n",
       "1       a251    Infubinol           65.525743                 1\n",
       "2       a262      Placebo           70.717621                 4\n",
       "3       a275     Ceftamin           62.999356                 3\n",
       "4       a366     Stelasyn           63.440686                 1\n",
       "..       ...          ...                 ...               ...\n",
       "244     z435     Propriva           48.710661                 0\n",
       "245     z578     Ramicane           30.638696                 0\n",
       "246     z581    Infubinol           62.754451                 3\n",
       "247     z795     Naftisol           65.741070                 3\n",
       "248     z969     Naftisol           73.867845                 4\n",
       "\n",
       "[249 rows x 4 columns]"
      ]
     },
     "execution_count": 237,
     "metadata": {},
     "output_type": "execute_result"
    }
   ],
   "source": [
    "#Max Datapoints\n",
    "mouse_max_datapoints = mouse_grouping[\"Timepoint\"].max()\n",
    "# reset the index\n",
    "mouse_max_datapoints.reset_index()\n",
    "\n",
    "#create a data frame to get all the datapoints which correspond to the max(Timepoint) for each Mouse\n",
    "#from the combined dataset\n",
    "mouse_max_df = pd.merge(mouse_max_datapoints, mouse_metadata_study_results_combined, on=[\"Mouse ID\", \"Timepoint\"], how=\"left\")\n",
    "mouse_max_df = mouse_max_df[[\"Mouse ID\", \"Drug Regimen\", \"Tumor Volume (mm3)\",\"Metastatic Sites\" ]]\n",
    "\n",
    "mouse_max_df"
   ]
  },
  {
   "cell_type": "code",
   "execution_count": 238,
   "metadata": {},
   "outputs": [],
   "source": [
    "mouse_min_max_df = pd.merge(mouse_min_df, mouse_max_df, on=[\"Mouse ID\", \"Drug Regimen\"], how=\"inner\")\n",
    "mouse_min_max_df[\"Change_in_Tumor_Volume (mm3)\"] = mouse_min_max_df[\"Tumor Volume (mm3)\"] - mouse_min_max_df[\"T0_Tumor Volume (mm3)\"]\n",
    "mouse_min_max_df[\"% Change_in_Tumor_Volume (mm3)\"] = (mouse_min_max_df[\"Change_in_Tumor_Volume (mm3)\"] / mouse_min_max_df[\"T0_Tumor Volume (mm3)\"]) * 100\n",
    "#mouse_min_max_df.sort_values(\"% Change_in_Tumor_Volume (mm3)\")\n"
   ]
  },
  {
   "cell_type": "code",
   "execution_count": 239,
   "metadata": {},
   "outputs": [
    {
     "data": {
      "text/html": [
       "<div>\n",
       "<style scoped>\n",
       "    .dataframe tbody tr th:only-of-type {\n",
       "        vertical-align: middle;\n",
       "    }\n",
       "\n",
       "    .dataframe tbody tr th {\n",
       "        vertical-align: top;\n",
       "    }\n",
       "\n",
       "    .dataframe thead th {\n",
       "        text-align: right;\n",
       "    }\n",
       "</style>\n",
       "<table border=\"1\" class=\"dataframe\">\n",
       "  <thead>\n",
       "    <tr style=\"text-align: right;\">\n",
       "      <th></th>\n",
       "      <th>Mouse ID</th>\n",
       "      <th>Timepoint</th>\n",
       "      <th>Drug Regimen</th>\n",
       "      <th>Sex</th>\n",
       "      <th>Age_months</th>\n",
       "      <th>T0_Weight (g)</th>\n",
       "      <th>T0_Tumor Volume (mm3)</th>\n",
       "      <th>T0_Metastatic Sites</th>\n",
       "      <th>Tumor Volume (mm3)</th>\n",
       "      <th>Metastatic Sites</th>\n",
       "      <th>Change_in_Tumor_Volume (mm3)</th>\n",
       "      <th>% Change_in_Tumor_Volume (mm3)</th>\n",
       "    </tr>\n",
       "  </thead>\n",
       "  <tbody>\n",
       "    <tr>\n",
       "      <th>98</th>\n",
       "      <td>k403</td>\n",
       "      <td>0</td>\n",
       "      <td>Ramicane</td>\n",
       "      <td>Male</td>\n",
       "      <td>21</td>\n",
       "      <td>16</td>\n",
       "      <td>45.0</td>\n",
       "      <td>0</td>\n",
       "      <td>22.050126</td>\n",
       "      <td>1</td>\n",
       "      <td>-22.949874</td>\n",
       "      <td>-50.999719</td>\n",
       "    </tr>\n",
       "    <tr>\n",
       "      <th>176</th>\n",
       "      <td>s185</td>\n",
       "      <td>0</td>\n",
       "      <td>Capomulin</td>\n",
       "      <td>Female</td>\n",
       "      <td>3</td>\n",
       "      <td>17</td>\n",
       "      <td>45.0</td>\n",
       "      <td>0</td>\n",
       "      <td>23.343598</td>\n",
       "      <td>1</td>\n",
       "      <td>-21.656402</td>\n",
       "      <td>-48.125338</td>\n",
       "    </tr>\n",
       "    <tr>\n",
       "      <th>123</th>\n",
       "      <td>m601</td>\n",
       "      <td>0</td>\n",
       "      <td>Capomulin</td>\n",
       "      <td>Male</td>\n",
       "      <td>22</td>\n",
       "      <td>17</td>\n",
       "      <td>45.0</td>\n",
       "      <td>0</td>\n",
       "      <td>28.430964</td>\n",
       "      <td>1</td>\n",
       "      <td>-16.569036</td>\n",
       "      <td>-36.820080</td>\n",
       "    </tr>\n",
       "    <tr>\n",
       "      <th>228</th>\n",
       "      <td>x401</td>\n",
       "      <td>0</td>\n",
       "      <td>Capomulin</td>\n",
       "      <td>Female</td>\n",
       "      <td>16</td>\n",
       "      <td>15</td>\n",
       "      <td>45.0</td>\n",
       "      <td>0</td>\n",
       "      <td>28.484033</td>\n",
       "      <td>0</td>\n",
       "      <td>-16.515967</td>\n",
       "      <td>-36.702149</td>\n",
       "    </tr>\n",
       "    <tr>\n",
       "      <th>70</th>\n",
       "      <td>g791</td>\n",
       "      <td>0</td>\n",
       "      <td>Ramicane</td>\n",
       "      <td>Male</td>\n",
       "      <td>11</td>\n",
       "      <td>16</td>\n",
       "      <td>45.0</td>\n",
       "      <td>0</td>\n",
       "      <td>29.128472</td>\n",
       "      <td>1</td>\n",
       "      <td>-15.871528</td>\n",
       "      <td>-35.270063</td>\n",
       "    </tr>\n",
       "    <tr>\n",
       "      <th>...</th>\n",
       "      <td>...</td>\n",
       "      <td>...</td>\n",
       "      <td>...</td>\n",
       "      <td>...</td>\n",
       "      <td>...</td>\n",
       "      <td>...</td>\n",
       "      <td>...</td>\n",
       "      <td>...</td>\n",
       "      <td>...</td>\n",
       "      <td>...</td>\n",
       "      <td>...</td>\n",
       "      <td>...</td>\n",
       "    </tr>\n",
       "    <tr>\n",
       "      <th>188</th>\n",
       "      <td>t724</td>\n",
       "      <td>0</td>\n",
       "      <td>Naftisol</td>\n",
       "      <td>Female</td>\n",
       "      <td>2</td>\n",
       "      <td>25</td>\n",
       "      <td>45.0</td>\n",
       "      <td>0</td>\n",
       "      <td>75.113288</td>\n",
       "      <td>2</td>\n",
       "      <td>30.113288</td>\n",
       "      <td>66.918418</td>\n",
       "    </tr>\n",
       "    <tr>\n",
       "      <th>119</th>\n",
       "      <td>m269</td>\n",
       "      <td>0</td>\n",
       "      <td>Stelasyn</td>\n",
       "      <td>Female</td>\n",
       "      <td>22</td>\n",
       "      <td>28</td>\n",
       "      <td>45.0</td>\n",
       "      <td>0</td>\n",
       "      <td>75.123690</td>\n",
       "      <td>1</td>\n",
       "      <td>30.123690</td>\n",
       "      <td>66.941532</td>\n",
       "    </tr>\n",
       "    <tr>\n",
       "      <th>149</th>\n",
       "      <td>p189</td>\n",
       "      <td>0</td>\n",
       "      <td>Ketapril</td>\n",
       "      <td>Male</td>\n",
       "      <td>8</td>\n",
       "      <td>28</td>\n",
       "      <td>45.0</td>\n",
       "      <td>0</td>\n",
       "      <td>75.294936</td>\n",
       "      <td>4</td>\n",
       "      <td>30.294936</td>\n",
       "      <td>67.322080</td>\n",
       "    </tr>\n",
       "    <tr>\n",
       "      <th>114</th>\n",
       "      <td>l725</td>\n",
       "      <td>0</td>\n",
       "      <td>Naftisol</td>\n",
       "      <td>Female</td>\n",
       "      <td>8</td>\n",
       "      <td>26</td>\n",
       "      <td>45.0</td>\n",
       "      <td>0</td>\n",
       "      <td>76.668817</td>\n",
       "      <td>3</td>\n",
       "      <td>31.668817</td>\n",
       "      <td>70.375150</td>\n",
       "    </tr>\n",
       "    <tr>\n",
       "      <th>138</th>\n",
       "      <td>o331</td>\n",
       "      <td>0</td>\n",
       "      <td>Ketapril</td>\n",
       "      <td>Male</td>\n",
       "      <td>24</td>\n",
       "      <td>30</td>\n",
       "      <td>45.0</td>\n",
       "      <td>0</td>\n",
       "      <td>78.567014</td>\n",
       "      <td>4</td>\n",
       "      <td>33.567014</td>\n",
       "      <td>74.593364</td>\n",
       "    </tr>\n",
       "  </tbody>\n",
       "</table>\n",
       "<p>250 rows × 12 columns</p>\n",
       "</div>"
      ],
      "text/plain": [
       "    Mouse ID  Timepoint Drug Regimen     Sex  Age_months  T0_Weight (g)  \\\n",
       "98      k403          0     Ramicane    Male          21             16   \n",
       "176     s185          0    Capomulin  Female           3             17   \n",
       "123     m601          0    Capomulin    Male          22             17   \n",
       "228     x401          0    Capomulin  Female          16             15   \n",
       "70      g791          0     Ramicane    Male          11             16   \n",
       "..       ...        ...          ...     ...         ...            ...   \n",
       "188     t724          0     Naftisol  Female           2             25   \n",
       "119     m269          0     Stelasyn  Female          22             28   \n",
       "149     p189          0     Ketapril    Male           8             28   \n",
       "114     l725          0     Naftisol  Female           8             26   \n",
       "138     o331          0     Ketapril    Male          24             30   \n",
       "\n",
       "     T0_Tumor Volume (mm3)  T0_Metastatic Sites  Tumor Volume (mm3)  \\\n",
       "98                    45.0                    0           22.050126   \n",
       "176                   45.0                    0           23.343598   \n",
       "123                   45.0                    0           28.430964   \n",
       "228                   45.0                    0           28.484033   \n",
       "70                    45.0                    0           29.128472   \n",
       "..                     ...                  ...                 ...   \n",
       "188                   45.0                    0           75.113288   \n",
       "119                   45.0                    0           75.123690   \n",
       "149                   45.0                    0           75.294936   \n",
       "114                   45.0                    0           76.668817   \n",
       "138                   45.0                    0           78.567014   \n",
       "\n",
       "     Metastatic Sites  Change_in_Tumor_Volume (mm3)  \\\n",
       "98                  1                    -22.949874   \n",
       "176                 1                    -21.656402   \n",
       "123                 1                    -16.569036   \n",
       "228                 0                    -16.515967   \n",
       "70                  1                    -15.871528   \n",
       "..                ...                           ...   \n",
       "188                 2                     30.113288   \n",
       "119                 1                     30.123690   \n",
       "149                 4                     30.294936   \n",
       "114                 3                     31.668817   \n",
       "138                 4                     33.567014   \n",
       "\n",
       "     % Change_in_Tumor_Volume (mm3)  \n",
       "98                       -50.999719  \n",
       "176                      -48.125338  \n",
       "123                      -36.820080  \n",
       "228                      -36.702149  \n",
       "70                       -35.270063  \n",
       "..                              ...  \n",
       "188                       66.918418  \n",
       "119                       66.941532  \n",
       "149                       67.322080  \n",
       "114                       70.375150  \n",
       "138                       74.593364  \n",
       "\n",
       "[250 rows x 12 columns]"
      ]
     },
     "execution_count": 239,
     "metadata": {},
     "output_type": "execute_result"
    }
   ],
   "source": [
    "mouse_min_max_df = pd.merge(mouse_min_df, mouse_max_df, on=[\"Mouse ID\", \"Drug Regimen\"], how=\"inner\")\n",
    "mouse_min_max_df[\"Change_in_Tumor_Volume (mm3)\"] = mouse_min_max_df[\"Tumor Volume (mm3)\"] - mouse_min_max_df[\"T0_Tumor Volume (mm3)\"]\n",
    "mouse_min_max_df[\"% Change_in_Tumor_Volume (mm3)\"] = (mouse_min_max_df[\"Change_in_Tumor_Volume (mm3)\"] / mouse_min_max_df[\"T0_Tumor Volume (mm3)\"]) * 100\n",
    "mouse_min_max_df.sort_values(\"% Change_in_Tumor_Volume (mm3)\")\n"
   ]
  },
  {
   "cell_type": "code",
   "execution_count": 240,
   "metadata": {},
   "outputs": [
    {
     "data": {
      "text/plain": [
       "array(['Infubinol', 'Ceftamin', 'Ramicane', 'Capomulin'], dtype=object)"
      ]
     },
     "execution_count": 240,
     "metadata": {},
     "output_type": "execute_result"
    }
   ],
   "source": [
    "# Grooup by Mouse Regimen then isolate the Top 4 Regimen\n",
    "mouse_regimen_group = mouse_min_max_df.groupby(\"Drug Regimen\")\n",
    "\n",
    "regimen_tumor_results = pd.DataFrame(mouse_regimen_group[\"% Change_in_Tumor_Volume (mm3)\"].min())\n",
    "regimen_tumor_results.reset_index()\n",
    "most_promising_regimen = regimen_tumor_results.sort_values(\"% Change_in_Tumor_Volume (mm3)\").head(4)\n",
    "max_datapoints_for_most_promising_regimen = pd.merge(mouse_max_df, most_promising_regimen, on=\"Drug Regimen\", how=\"inner\").filter([\"Mouse ID\", \"Drug Regimen\", \"Tumor Volume (mm3)\", \"Metastatic Sites\"])\n",
    "max_datapoints_for_most_promising_regimen[\"Drug Regimen\"].unique()"
   ]
  },
  {
   "cell_type": "code",
   "execution_count": 241,
   "metadata": {},
   "outputs": [
    {
     "data": {
      "image/png": "[encoded data removed]",
      "text/plain": [
       "<Figure size 432x288 with 1 Axes>"
      ]
     },
     "metadata": {
      "needs_background": "light"
     },
     "output_type": "display_data"
    }
   ],
   "source": [
    "# Calculate the final tumor volume of each mouse across four of the most promising treatment regimens. Calculate the IQR and quantitatively determine if there are any potential outliers. \n",
    "\n",
    "fig1, ax1 = plt.subplots()\n",
    "ax1.set_title('Tumor Test Results')\n",
    "ax1.set_ylabel('Tumor Size')\n",
    "ax1.boxplot(max_datapoints_for_most_promising_regimen[\"Tumor Volume (mm3)\"])\n",
    "plt.show()"
   ]
  },
  {
   "cell_type": "code",
   "execution_count": 242,
   "metadata": {},
   "outputs": [
    {
     "name": "stdout",
     "output_type": "stream",
     "text": [
      "The lower quartile of Tumor Volume in mm3 is: 37.187743802499995\n",
      "The upper quartile of Tumor Volume in mm3 is: 59.930261755000004\n",
      "The interquartile range of Tumor Volume in mm3 is: 22.74251795250001\n",
      "The the median of Tumor Volume in mm3 is: 45.0 \n",
      "Values below 3.0739668737499812 could be outliers.\n",
      "Values above 94.04403868375002 could be outliers.\n"
     ]
    },
    {
     "data": {
      "text/html": [
       "<div>\n",
       "<style scoped>\n",
       "    .dataframe tbody tr th:only-of-type {\n",
       "        vertical-align: middle;\n",
       "    }\n",
       "\n",
       "    .dataframe tbody tr th {\n",
       "        vertical-align: top;\n",
       "    }\n",
       "\n",
       "    .dataframe thead th {\n",
       "        text-align: right;\n",
       "    }\n",
       "</style>\n",
       "<table border=\"1\" class=\"dataframe\">\n",
       "  <thead>\n",
       "    <tr style=\"text-align: right;\">\n",
       "      <th></th>\n",
       "      <th>Mouse ID</th>\n",
       "      <th>Drug Regimen</th>\n",
       "      <th>Tumor Volume (mm3)</th>\n",
       "      <th>Metastatic Sites</th>\n",
       "    </tr>\n",
       "  </thead>\n",
       "  <tbody>\n",
       "  </tbody>\n",
       "</table>\n",
       "</div>"
      ],
      "text/plain": [
       "Empty DataFrame\n",
       "Columns: [Mouse ID, Drug Regimen, Tumor Volume (mm3), Metastatic Sites]\n",
       "Index: []"
      ]
     },
     "execution_count": 242,
     "metadata": {},
     "output_type": "execute_result"
    }
   ],
   "source": [
    "# array(['Infubinol', 'Ceftamin', 'Ramicane', 'Capomulin'], dtype=object)\n",
    "# All 4 Regimens - Results\n",
    "\n",
    "quartiles = max_datapoints_for_most_promising_regimen[\"Tumor Volume (mm3)\"].quantile([.25,.5,.75])\n",
    "lowerq = quartiles[0.25]\n",
    "upperq = quartiles[.75]\n",
    "iqr = upperq-lowerq\n",
    "\n",
    "print(f\"The lower quartile of Tumor Volume in mm3 is: {lowerq}\")\n",
    "print(f\"The upper quartile of Tumor Volume in mm3 is: {upperq}\")\n",
    "print(f\"The interquartile range of Tumor Volume in mm3 is: {iqr}\")\n",
    "print(f\"The the median of Tumor Volume in mm3 is: {quartiles[0.5]} \")\n",
    "\n",
    "lower_bound = lowerq - (1.5*iqr)\n",
    "upper_bound = upperq + (1.5*iqr)\n",
    "print(f\"Values below {lower_bound} could be outliers.\")\n",
    "print(f\"Values above {upper_bound} could be outliers.\")\n",
    "\n",
    "outlier_tumor_results = max_datapoints_for_most_promising_regimen.loc[(max_datapoints_for_most_promising_regimen[\"Tumor Volume (mm3)\"] < lower_bound) | (max_datapoints_for_most_promising_regimen[\"Tumor Volume (mm3)\"] > upper_bound)]\n",
    "outlier_tumor_results"
   ]
  },
  {
   "cell_type": "code",
   "execution_count": 243,
   "metadata": {},
   "outputs": [
    {
     "name": "stdout",
     "output_type": "stream",
     "text": [
      "The lower quartile of Capomulin Treatment - Tumor Volume in mm3 is: 32.37735684\n",
      "The upper quartile of Capomulin Treatment - Tumor Volume in mm3 is: 40.1592203\n",
      "The interquartile range of Capomulin Treatment - Tumor Volume in mm3 is: 7.781863460000004\n",
      "The the median of Capomulin Treatment - Tumor Volume in mm3 is: 38.125164399999996 \n",
      "Values below 20.70456164999999 for Capomulin Treatment could be outliers.\n",
      "Values above 51.83201549 for Capomulin Treatment could be outliers.\n"
     ]
    }
   ],
   "source": [
    "# Capomulin - Results\n",
    "\n",
    "capo = pd.DataFrame(max_datapoints_for_most_promising_regimen.loc[max_datapoints_for_most_promising_regimen[\"Drug Regimen\"] ==\"Capomulin\"][\"Tumor Volume (mm3)\"])\n",
    "quartiles = capo[\"Tumor Volume (mm3)\"].quantile([.25,.5,.75])\n",
    "lowerq = quartiles[0.25]\n",
    "upperq = quartiles[.75]\n",
    "iqr = upperq-lowerq\n",
    "\n",
    "print(f\"The lower quartile of Capomulin Treatment - Tumor Volume in mm3 is: {lowerq}\")\n",
    "print(f\"The upper quartile of Capomulin Treatment - Tumor Volume in mm3 is: {upperq}\")\n",
    "print(f\"The interquartile range of Capomulin Treatment - Tumor Volume in mm3 is: {iqr}\")\n",
    "print(f\"The the median of Capomulin Treatment - Tumor Volume in mm3 is: {quartiles[0.5]} \")\n",
    "\n",
    "lower_bound = lowerq - (1.5*iqr)\n",
    "upper_bound = upperq + (1.5*iqr)\n",
    "print(f\"Values below {lower_bound} for Capomulin Treatment could be outliers.\")\n",
    "print(f\"Values above {upper_bound} for Capomulin Treatment could be outliers.\")\n",
    "\n",
    "#capo_outlier_tumor_results = capo.loc[(capo[\"Tumor Volume (mm3)\"] < lower_bound) | (capo[\"Tumor Volume (mm3)\"] > upper_bound)]\n",
    "#capo_outlier_tumor_results"
   ]
  },
  {
   "cell_type": "code",
   "execution_count": 244,
   "metadata": {},
   "outputs": [
    {
     "name": "stdout",
     "output_type": "stream",
     "text": [
      "The lower quartile of Ceftamin Treatment - Tumor Volume in mm3 is: 48.72207785\n",
      "The upper quartile of Ceftamin Treatment - Tumor Volume in mm3 is: 64.29983003\n",
      "The interquartile range of Ceftamin Treatment - Tumor Volume in mm3 is: 15.577752179999997\n",
      "The the median of Ceftamin Treatment - Tumor Volume in mm3 is: 59.85195552 \n",
      "Values below 25.355449580000002 for Ceftamin Treatment could be outliers.\n",
      "Values above 87.66645829999999 for Ceftamin Treatment could be outliers.\n"
     ]
    }
   ],
   "source": [
    "# Ceftamin - Results \n",
    "\n",
    "ceft = pd.DataFrame(max_datapoints_for_most_promising_regimen.loc[max_datapoints_for_most_promising_regimen[\"Drug Regimen\"] ==\"Ceftamin\"][\"Tumor Volume (mm3)\"])\n",
    "\n",
    "quartiles = ceft[\"Tumor Volume (mm3)\"].quantile([.25,.5,.75])\n",
    "lowerq = quartiles[0.25]\n",
    "upperq = quartiles[.75]\n",
    "iqr = upperq-lowerq\n",
    "\n",
    "print(f\"The lower quartile of Ceftamin Treatment - Tumor Volume in mm3 is: {lowerq}\")\n",
    "print(f\"The upper quartile of Ceftamin Treatment - Tumor Volume in mm3 is: {upperq}\")\n",
    "print(f\"The interquartile range of Ceftamin Treatment - Tumor Volume in mm3 is: {iqr}\")\n",
    "print(f\"The the median of Ceftamin Treatment - Tumor Volume in mm3 is: {quartiles[0.5]} \")\n",
    "\n",
    "lower_bound = lowerq - (1.5*iqr)\n",
    "upper_bound = upperq + (1.5*iqr)\n",
    "print(f\"Values below {lower_bound} for Ceftamin Treatment could be outliers.\")\n",
    "print(f\"Values above {upper_bound} for Ceftamin Treatment could be outliers.\")\n",
    "\n"
   ]
  },
  {
   "cell_type": "code",
   "execution_count": 245,
   "metadata": {},
   "outputs": [
    {
     "name": "stdout",
     "output_type": "stream",
     "text": [
      "The lower quartile of Infubinol Treatment - Tumor Volume in mm3 is: 54.04860769\n",
      "The upper quartile of Infubinol Treatment - Tumor Volume in mm3 is: 65.52574285\n",
      "The interquartile range of Infubinol Treatment - Tumor Volume in mm3 is: 11.477135160000003\n",
      "The the median of Infubinol Treatment - Tumor Volume in mm3 is: 60.16518046 \n",
      "Values below 36.83290494999999 for Infubinol Treatment could be outliers.\n",
      "Values above 82.74144559000001 for Infubinol Treatment could be outliers.\n"
     ]
    }
   ],
   "source": [
    "# Infubinol - Results\n",
    "\n",
    "infu = pd.DataFrame(max_datapoints_for_most_promising_regimen.loc[max_datapoints_for_most_promising_regimen[\"Drug Regimen\"] ==\"Infubinol\"][\"Tumor Volume (mm3)\"])\n",
    "\n",
    "\n",
    "\n",
    "quartiles = infu[\"Tumor Volume (mm3)\"].quantile([.25,.5,.75])\n",
    "lowerq = quartiles[0.25]\n",
    "upperq = quartiles[.75]\n",
    "iqr = upperq-lowerq\n",
    "\n",
    "print(f\"The lower quartile of Infubinol Treatment - Tumor Volume in mm3 is: {lowerq}\")\n",
    "print(f\"The upper quartile of Infubinol Treatment - Tumor Volume in mm3 is: {upperq}\")\n",
    "print(f\"The interquartile range of Infubinol Treatment - Tumor Volume in mm3 is: {iqr}\")\n",
    "print(f\"The the median of Infubinol Treatment - Tumor Volume in mm3 is: {quartiles[0.5]} \")\n",
    "\n",
    "lower_bound = lowerq - (1.5*iqr)\n",
    "upper_bound = upperq + (1.5*iqr)\n",
    "print(f\"Values below {lower_bound} for Infubinol Treatment could be outliers.\")\n",
    "print(f\"Values above {upper_bound} for Infubinol Treatment could be outliers.\")\n",
    "\n",
    "#infu_outlier_tumor_results = infu.loc[(capo[\"Tumor Volume (mm3)\"] < lower_bound) | (infu[\"Tumor Volume (mm3)\"] > upper_bound)]\n",
    "#infu_outlier_tumor_results"
   ]
  },
  {
   "cell_type": "code",
   "execution_count": 246,
   "metadata": {},
   "outputs": [
    {
     "name": "stdout",
     "output_type": "stream",
     "text": [
      "The lower quartile of Ramicane Treatment - Tumor Volume in mm3 is: 31.56046955\n",
      "The upper quartile of Ramicane Treatment - Tumor Volume in mm3 is: 40.65900627\n",
      "The interquartile range of Ramicane Treatment - Tumor Volume in mm3 is: 9.098536719999998\n",
      "The the median of Ramicane Treatment - Tumor Volume in mm3 is: 36.56165229 \n",
      "Values below 17.912664470000003 for Ramicane Treatment could be outliers.\n",
      "Values above 54.30681135 for Ramicane Treatment could be outliers.\n"
     ]
    }
   ],
   "source": [
    "# Ramicane - Results\n",
    "\n",
    "rami = pd.DataFrame(max_datapoints_for_most_promising_regimen.loc[max_datapoints_for_most_promising_regimen[\"Drug Regimen\"] ==\"Ramicane\"][\"Tumor Volume (mm3)\"])\n",
    "\n",
    "\n",
    "quartiles = rami[\"Tumor Volume (mm3)\"].quantile([.25,.5,.75])\n",
    "lowerq = quartiles[0.25]\n",
    "upperq = quartiles[.75]\n",
    "iqr = upperq-lowerq\n",
    "\n",
    "print(f\"The lower quartile of Ramicane Treatment - Tumor Volume in mm3 is: {lowerq}\")\n",
    "print(f\"The upper quartile of Ramicane Treatment - Tumor Volume in mm3 is: {upperq}\")\n",
    "print(f\"The interquartile range of Ramicane Treatment - Tumor Volume in mm3 is: {iqr}\")\n",
    "print(f\"The the median of Ramicane Treatment - Tumor Volume in mm3 is: {quartiles[0.5]} \")\n",
    "\n",
    "lower_bound = lowerq - (1.5*iqr)\n",
    "upper_bound = upperq + (1.5*iqr)\n",
    "print(f\"Values below {lower_bound} for Ramicane Treatment could be outliers.\")\n",
    "print(f\"Values above {upper_bound} for Ramicane Treatment could be outliers.\")\n",
    "\n",
    "#rami_outlier_tumor_results = rami.loc[(capo[\"Tumor Volume (mm3)\"] < lower_bound) | (rami[\"Tumor Volume (mm3)\"] > upper_bound)]\n",
    "#rami_outlier_tumor_results"
   ]
  },
  {
   "cell_type": "code",
   "execution_count": 247,
   "metadata": {},
   "outputs": [],
   "source": [
    "# Generate a box plot of the final tumor volume of each mouse across four regimens of interest\n",
    "\n",
    "mrk = dict(markerfacecolor = 'green', markersize =10)\n",
    "#plt.boxplot([capo], labels =['ca'], flierprops = mrk)\n"
   ]
  },
  {
   "cell_type": "markdown",
   "metadata": {},
   "source": [
    "## Line and scatter plots"
   ]
  },
  {
   "cell_type": "code",
   "execution_count": 248,
   "metadata": {},
   "outputs": [
    {
     "data": {
      "text/html": [
       "<div>\n",
       "<style scoped>\n",
       "    .dataframe tbody tr th:only-of-type {\n",
       "        vertical-align: middle;\n",
       "    }\n",
       "\n",
       "    .dataframe tbody tr th {\n",
       "        vertical-align: top;\n",
       "    }\n",
       "\n",
       "    .dataframe thead th {\n",
       "        text-align: right;\n",
       "    }\n",
       "</style>\n",
       "<table border=\"1\" class=\"dataframe\">\n",
       "  <thead>\n",
       "    <tr style=\"text-align: right;\">\n",
       "      <th></th>\n",
       "      <th>Mouse ID</th>\n",
       "      <th>Drug Regimen</th>\n",
       "      <th>Sex</th>\n",
       "      <th>Age_months</th>\n",
       "      <th>Weight (g)</th>\n",
       "      <th>Timepoint</th>\n",
       "      <th>Tumor Volume (mm3)</th>\n",
       "      <th>Metastatic Sites</th>\n",
       "    </tr>\n",
       "  </thead>\n",
       "  <tbody>\n",
       "    <tr>\n",
       "      <th>300</th>\n",
       "      <td>b128</td>\n",
       "      <td>Capomulin</td>\n",
       "      <td>Female</td>\n",
       "      <td>9</td>\n",
       "      <td>22</td>\n",
       "      <td>0</td>\n",
       "      <td>45.000000</td>\n",
       "      <td>0</td>\n",
       "    </tr>\n",
       "    <tr>\n",
       "      <th>301</th>\n",
       "      <td>b128</td>\n",
       "      <td>Capomulin</td>\n",
       "      <td>Female</td>\n",
       "      <td>9</td>\n",
       "      <td>22</td>\n",
       "      <td>5</td>\n",
       "      <td>45.651331</td>\n",
       "      <td>0</td>\n",
       "    </tr>\n",
       "    <tr>\n",
       "      <th>302</th>\n",
       "      <td>b128</td>\n",
       "      <td>Capomulin</td>\n",
       "      <td>Female</td>\n",
       "      <td>9</td>\n",
       "      <td>22</td>\n",
       "      <td>10</td>\n",
       "      <td>43.270852</td>\n",
       "      <td>0</td>\n",
       "    </tr>\n",
       "    <tr>\n",
       "      <th>303</th>\n",
       "      <td>b128</td>\n",
       "      <td>Capomulin</td>\n",
       "      <td>Female</td>\n",
       "      <td>9</td>\n",
       "      <td>22</td>\n",
       "      <td>15</td>\n",
       "      <td>43.784893</td>\n",
       "      <td>0</td>\n",
       "    </tr>\n",
       "    <tr>\n",
       "      <th>304</th>\n",
       "      <td>b128</td>\n",
       "      <td>Capomulin</td>\n",
       "      <td>Female</td>\n",
       "      <td>9</td>\n",
       "      <td>22</td>\n",
       "      <td>20</td>\n",
       "      <td>42.731552</td>\n",
       "      <td>0</td>\n",
       "    </tr>\n",
       "    <tr>\n",
       "      <th>305</th>\n",
       "      <td>b128</td>\n",
       "      <td>Capomulin</td>\n",
       "      <td>Female</td>\n",
       "      <td>9</td>\n",
       "      <td>22</td>\n",
       "      <td>25</td>\n",
       "      <td>43.262145</td>\n",
       "      <td>1</td>\n",
       "    </tr>\n",
       "    <tr>\n",
       "      <th>306</th>\n",
       "      <td>b128</td>\n",
       "      <td>Capomulin</td>\n",
       "      <td>Female</td>\n",
       "      <td>9</td>\n",
       "      <td>22</td>\n",
       "      <td>30</td>\n",
       "      <td>40.605335</td>\n",
       "      <td>1</td>\n",
       "    </tr>\n",
       "    <tr>\n",
       "      <th>307</th>\n",
       "      <td>b128</td>\n",
       "      <td>Capomulin</td>\n",
       "      <td>Female</td>\n",
       "      <td>9</td>\n",
       "      <td>22</td>\n",
       "      <td>35</td>\n",
       "      <td>37.967644</td>\n",
       "      <td>1</td>\n",
       "    </tr>\n",
       "    <tr>\n",
       "      <th>308</th>\n",
       "      <td>b128</td>\n",
       "      <td>Capomulin</td>\n",
       "      <td>Female</td>\n",
       "      <td>9</td>\n",
       "      <td>22</td>\n",
       "      <td>40</td>\n",
       "      <td>38.379726</td>\n",
       "      <td>2</td>\n",
       "    </tr>\n",
       "    <tr>\n",
       "      <th>309</th>\n",
       "      <td>b128</td>\n",
       "      <td>Capomulin</td>\n",
       "      <td>Female</td>\n",
       "      <td>9</td>\n",
       "      <td>22</td>\n",
       "      <td>45</td>\n",
       "      <td>38.982878</td>\n",
       "      <td>2</td>\n",
       "    </tr>\n",
       "  </tbody>\n",
       "</table>\n",
       "</div>"
      ],
      "text/plain": [
       "    Mouse ID Drug Regimen     Sex  Age_months  Weight (g)  Timepoint  \\\n",
       "300     b128    Capomulin  Female           9          22          0   \n",
       "301     b128    Capomulin  Female           9          22          5   \n",
       "302     b128    Capomulin  Female           9          22         10   \n",
       "303     b128    Capomulin  Female           9          22         15   \n",
       "304     b128    Capomulin  Female           9          22         20   \n",
       "305     b128    Capomulin  Female           9          22         25   \n",
       "306     b128    Capomulin  Female           9          22         30   \n",
       "307     b128    Capomulin  Female           9          22         35   \n",
       "308     b128    Capomulin  Female           9          22         40   \n",
       "309     b128    Capomulin  Female           9          22         45   \n",
       "\n",
       "     Tumor Volume (mm3)  Metastatic Sites  \n",
       "300           45.000000                 0  \n",
       "301           45.651331                 0  \n",
       "302           43.270852                 0  \n",
       "303           43.784893                 0  \n",
       "304           42.731552                 0  \n",
       "305           43.262145                 1  \n",
       "306           40.605335                 1  \n",
       "307           37.967644                 1  \n",
       "308           38.379726                 2  \n",
       "309           38.982878                 2  "
      ]
     },
     "execution_count": 248,
     "metadata": {},
     "output_type": "execute_result"
    }
   ],
   "source": [
    "# Generate a line plot of time point versus tumor volume for a mouse treated with Capomulin\n",
    "#Identify the mouse treated with with Capomulin that has shown the greateest reduction in its tumor\n",
    "capo_data = pd.DataFrame(mouse_metadata_study_results_combined.loc[mouse_metadata_study_results_combined[\"Drug Regimen\"]==\"Capomulin\"].groupby(\"Mouse ID\").min().head(1))\n",
    "capo_data.reset_index()\n",
    "# b128\tCapomulin\tFemale\t9\t22\t0\t37.967644\t0\n",
    "mouse_data = pd.DataFrame(mouse_metadata_study_results_combined.loc[mouse_metadata_study_results_combined[\"Drug Regimen\"]==\"Capomulin\"])\n",
    "\n",
    "mouse_datapoints = mouse_data.loc[mouse_data[\"Mouse ID\"]==\"b128\"]\n",
    "mouse_datapoints"
   ]
  },
  {
   "cell_type": "code",
   "execution_count": 249,
   "metadata": {},
   "outputs": [
    {
     "data": {
      "text/plain": [
       "[<matplotlib.lines.Line2D at 0x25577105588>]"
      ]
     },
     "execution_count": 249,
     "metadata": {},
     "output_type": "execute_result"
    },
    {
     "data": {
      "image/png": "[encoded data removed]",
      "text/plain": [
       "<Figure size 432x288 with 1 Axes>"
      ]
     },
     "metadata": {
      "needs_background": "light"
     },
     "output_type": "display_data"
    }
   ],
   "source": [
    "plt.plot(mouse_datapoints[\"Timepoint\"], mouse_datapoints[\"Tumor Volume (mm3)\"])"
   ]
  },
  {
   "cell_type": "code",
   "execution_count": 250,
   "metadata": {},
   "outputs": [],
   "source": [
    "# Generate a scatter plot of mouse weight versus average tumor volume for the Capomulin regimen"
   ]
  },
  {
   "cell_type": "code",
   "execution_count": 251,
   "metadata": {},
   "outputs": [
    {
     "data": {
      "text/plain": [
       "<matplotlib.collections.PathCollection at 0x255773cd908>"
      ]
     },
     "execution_count": 251,
     "metadata": {},
     "output_type": "execute_result"
    },
    {
     "data": {
      "image/png": "[encoded data removed]",
      "text/plain": [
       "<Figure size 432x288 with 1 Axes>"
      ]
     },
     "metadata": {
      "needs_background": "light"
     },
     "output_type": "display_data"
    }
   ],
   "source": [
    "capo_means = mouse_metadata_study_results_combined.loc[mouse_metadata_study_results_combined[\"Drug Regimen\"]==\"Capomulin\"].groupby(\"Mouse ID\").mean()\n",
    "plt.scatter(capo_means[\"Weight (g)\"], capo_means[\"Tumor Volume (mm3)\"])"
   ]
  },
  {
   "cell_type": "code",
   "execution_count": 252,
   "metadata": {},
   "outputs": [],
   "source": [
    "# Calculate the correlation coefficient and linear regression model for mouse weight and average tumor volume for the Capomulin regimen"
   ]
  },
  {
   "cell_type": "code",
   "execution_count": 253,
   "metadata": {},
   "outputs": [],
   "source": [
    "# calculate regression line details\n",
    "reg_details = st.linregress(capo_means[\"Weight (g)\"], capo_means[\"Tumor Volume (mm3)\"]) \n",
    "# LinregressResult(slope=0.9544396890241045, intercept=21.552160532685015, rvalue=0.8419363424694718, pvalue=1.3225722434712642e-07, stderr=0.1275435903320134)\n",
    "\n",
    "y_value = capo_means[\"Weight (g)\"] * reg_details[0] + reg_details[1]\n"
   ]
  },
  {
   "cell_type": "code",
   "execution_count": 211,
   "metadata": {},
   "outputs": [
    {
     "data": {
      "text/plain": [
       "[<matplotlib.lines.Line2D at 0x25575eb4708>]"
      ]
     },
     "execution_count": 211,
     "metadata": {},
     "output_type": "execute_result"
    },
    {
     "data": {
      "image/png": "[encoded data removed]",
      "text/plain": [
       "<Figure size 432x288 with 1 Axes>"
      ]
     },
     "metadata": {
      "needs_background": "light"
     },
     "output_type": "display_data"
    }
   ],
   "source": [
    "plt.scatter(capo_means[\"Weight (g)\"], capo_means[\"Tumor Volume (mm3)\"])\n",
    "plt.plot(capo_means[\"Weight (g)\"], y_value, color=\"red\")"
   ]
  }
 ],
 "metadata": {
  "anaconda-cloud": {},
  "kernelspec": {
   "display_name": "Python 3",
   "language": "python",
   "name": "python3"
  },
  "language_info": {
   "codemirror_mode": {
    "name": "ipython",
    "version": 3
   },
   "file_extension": ".py",
   "mimetype": "text/x-python",
   "name": "python",
   "nbconvert_exporter": "python",
   "pygments_lexer": "ipython3",
   "version": "3.7.6"
  }
 },
 "nbformat": 4,
 "nbformat_minor": 2
}

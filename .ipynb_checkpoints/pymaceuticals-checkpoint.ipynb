{
 "cells": [
  {
   "cell_type": "markdown",
   "metadata": {},
   "source": [
    "## Observations and Insights"
   ]
  },
  {
   "cell_type": "markdown",
   "metadata": {},
   "source": []
  },
  {
   "cell_type": "markdown",
   "metadata": {},
   "source": [
    "## Dependencies and starter code"
   ]
  },
  {
   "cell_type": "code",
   "execution_count": 1,
   "metadata": {},
   "outputs": [
    {
     "data": {
      "text/html": [
       "<div>\n",
       "<style scoped>\n",
       "    .dataframe tbody tr th:only-of-type {\n",
       "        vertical-align: middle;\n",
       "    }\n",
       "\n",
       "    .dataframe tbody tr th {\n",
       "        vertical-align: top;\n",
       "    }\n",
       "\n",
       "    .dataframe thead th {\n",
       "        text-align: right;\n",
       "    }\n",
       "</style>\n",
       "<table border=\"1\" class=\"dataframe\">\n",
       "  <thead>\n",
       "    <tr style=\"text-align: right;\">\n",
       "      <th></th>\n",
       "      <th>Mouse ID</th>\n",
       "      <th>Drug Regimen</th>\n",
       "      <th>Sex</th>\n",
       "      <th>Age_months</th>\n",
       "      <th>Weight (g)</th>\n",
       "      <th>Timepoint</th>\n",
       "      <th>Tumor Volume (mm3)</th>\n",
       "      <th>Metastatic Sites</th>\n",
       "    </tr>\n",
       "  </thead>\n",
       "  <tbody>\n",
       "    <tr>\n",
       "      <th>0</th>\n",
       "      <td>k403</td>\n",
       "      <td>Ramicane</td>\n",
       "      <td>Male</td>\n",
       "      <td>21</td>\n",
       "      <td>16</td>\n",
       "      <td>0</td>\n",
       "      <td>45.000000</td>\n",
       "      <td>0</td>\n",
       "    </tr>\n",
       "    <tr>\n",
       "      <th>1</th>\n",
       "      <td>k403</td>\n",
       "      <td>Ramicane</td>\n",
       "      <td>Male</td>\n",
       "      <td>21</td>\n",
       "      <td>16</td>\n",
       "      <td>5</td>\n",
       "      <td>38.825898</td>\n",
       "      <td>0</td>\n",
       "    </tr>\n",
       "    <tr>\n",
       "      <th>2</th>\n",
       "      <td>k403</td>\n",
       "      <td>Ramicane</td>\n",
       "      <td>Male</td>\n",
       "      <td>21</td>\n",
       "      <td>16</td>\n",
       "      <td>10</td>\n",
       "      <td>35.014271</td>\n",
       "      <td>1</td>\n",
       "    </tr>\n",
       "    <tr>\n",
       "      <th>3</th>\n",
       "      <td>k403</td>\n",
       "      <td>Ramicane</td>\n",
       "      <td>Male</td>\n",
       "      <td>21</td>\n",
       "      <td>16</td>\n",
       "      <td>15</td>\n",
       "      <td>34.223992</td>\n",
       "      <td>1</td>\n",
       "    </tr>\n",
       "    <tr>\n",
       "      <th>4</th>\n",
       "      <td>k403</td>\n",
       "      <td>Ramicane</td>\n",
       "      <td>Male</td>\n",
       "      <td>21</td>\n",
       "      <td>16</td>\n",
       "      <td>20</td>\n",
       "      <td>32.997729</td>\n",
       "      <td>1</td>\n",
       "    </tr>\n",
       "    <tr>\n",
       "      <th>...</th>\n",
       "      <td>...</td>\n",
       "      <td>...</td>\n",
       "      <td>...</td>\n",
       "      <td>...</td>\n",
       "      <td>...</td>\n",
       "      <td>...</td>\n",
       "      <td>...</td>\n",
       "      <td>...</td>\n",
       "    </tr>\n",
       "    <tr>\n",
       "      <th>1888</th>\n",
       "      <td>z969</td>\n",
       "      <td>Naftisol</td>\n",
       "      <td>Male</td>\n",
       "      <td>9</td>\n",
       "      <td>30</td>\n",
       "      <td>25</td>\n",
       "      <td>63.145652</td>\n",
       "      <td>2</td>\n",
       "    </tr>\n",
       "    <tr>\n",
       "      <th>1889</th>\n",
       "      <td>z969</td>\n",
       "      <td>Naftisol</td>\n",
       "      <td>Male</td>\n",
       "      <td>9</td>\n",
       "      <td>30</td>\n",
       "      <td>30</td>\n",
       "      <td>65.841013</td>\n",
       "      <td>3</td>\n",
       "    </tr>\n",
       "    <tr>\n",
       "      <th>1890</th>\n",
       "      <td>z969</td>\n",
       "      <td>Naftisol</td>\n",
       "      <td>Male</td>\n",
       "      <td>9</td>\n",
       "      <td>30</td>\n",
       "      <td>35</td>\n",
       "      <td>69.176246</td>\n",
       "      <td>4</td>\n",
       "    </tr>\n",
       "    <tr>\n",
       "      <th>1891</th>\n",
       "      <td>z969</td>\n",
       "      <td>Naftisol</td>\n",
       "      <td>Male</td>\n",
       "      <td>9</td>\n",
       "      <td>30</td>\n",
       "      <td>40</td>\n",
       "      <td>70.314904</td>\n",
       "      <td>4</td>\n",
       "    </tr>\n",
       "    <tr>\n",
       "      <th>1892</th>\n",
       "      <td>z969</td>\n",
       "      <td>Naftisol</td>\n",
       "      <td>Male</td>\n",
       "      <td>9</td>\n",
       "      <td>30</td>\n",
       "      <td>45</td>\n",
       "      <td>73.867845</td>\n",
       "      <td>4</td>\n",
       "    </tr>\n",
       "  </tbody>\n",
       "</table>\n",
       "<p>1893 rows × 8 columns</p>\n",
       "</div>"
      ],
      "text/plain": [
       "     Mouse ID Drug Regimen   Sex  Age_months  Weight (g)  Timepoint  \\\n",
       "0        k403     Ramicane  Male          21          16          0   \n",
       "1        k403     Ramicane  Male          21          16          5   \n",
       "2        k403     Ramicane  Male          21          16         10   \n",
       "3        k403     Ramicane  Male          21          16         15   \n",
       "4        k403     Ramicane  Male          21          16         20   \n",
       "...       ...          ...   ...         ...         ...        ...   \n",
       "1888     z969     Naftisol  Male           9          30         25   \n",
       "1889     z969     Naftisol  Male           9          30         30   \n",
       "1890     z969     Naftisol  Male           9          30         35   \n",
       "1891     z969     Naftisol  Male           9          30         40   \n",
       "1892     z969     Naftisol  Male           9          30         45   \n",
       "\n",
       "      Tumor Volume (mm3)  Metastatic Sites  \n",
       "0              45.000000                 0  \n",
       "1              38.825898                 0  \n",
       "2              35.014271                 1  \n",
       "3              34.223992                 1  \n",
       "4              32.997729                 1  \n",
       "...                  ...               ...  \n",
       "1888           63.145652                 2  \n",
       "1889           65.841013                 3  \n",
       "1890           69.176246                 4  \n",
       "1891           70.314904                 4  \n",
       "1892           73.867845                 4  \n",
       "\n",
       "[1893 rows x 8 columns]"
      ]
     },
     "execution_count": 1,
     "metadata": {},
     "output_type": "execute_result"
    }
   ],
   "source": [
    "# Dependencies and Setup\n",
    "import matplotlib.pyplot as plt\n",
    "import pandas as pd\n",
    "import scipy.stats as st\n",
    "import numpy as np\n",
    "\n",
    "# Study data files\n",
    "mouse_metadata = \"data/Mouse_metadata.csv\"\n",
    "study_results = \"data/Study_results.csv\"\n",
    "\n",
    "# Read the mouse data and the study results\n",
    "mouse_metadata = pd.read_csv(mouse_metadata)\n",
    "study_results = pd.read_csv(study_results)\n",
    "\n",
    "# Combine the data into a single dataset\n",
    "mouse_metadata_study_results_combined = pd.DataFrame(pd.merge(mouse_metadata ,study_results, on=\"Mouse ID\", how=\"inner\"))\n",
    "\n",
    "mouse_metadata_study_results_combined"
   ]
  },
  {
   "cell_type": "markdown",
   "metadata": {},
   "source": [
    "## Summary statistics"
   ]
  },
  {
   "cell_type": "code",
   "execution_count": 2,
   "metadata": {},
   "outputs": [
    {
     "data": {
      "text/html": [
       "<div>\n",
       "<style scoped>\n",
       "    .dataframe tbody tr th:only-of-type {\n",
       "        vertical-align: middle;\n",
       "    }\n",
       "\n",
       "    .dataframe tbody tr th {\n",
       "        vertical-align: top;\n",
       "    }\n",
       "\n",
       "    .dataframe thead th {\n",
       "        text-align: right;\n",
       "    }\n",
       "</style>\n",
       "<table border=\"1\" class=\"dataframe\">\n",
       "  <thead>\n",
       "    <tr style=\"text-align: right;\">\n",
       "      <th></th>\n",
       "      <th>Tumor Volume (mm3)</th>\n",
       "    </tr>\n",
       "  </thead>\n",
       "  <tbody>\n",
       "    <tr>\n",
       "      <th>mean</th>\n",
       "      <td>50.448381</td>\n",
       "    </tr>\n",
       "    <tr>\n",
       "      <th>median</th>\n",
       "      <td>48.951474</td>\n",
       "    </tr>\n",
       "    <tr>\n",
       "      <th>var</th>\n",
       "      <td>79.116074</td>\n",
       "    </tr>\n",
       "    <tr>\n",
       "      <th>std</th>\n",
       "      <td>8.894722</td>\n",
       "    </tr>\n",
       "    <tr>\n",
       "      <th>sem</th>\n",
       "      <td>0.204436</td>\n",
       "    </tr>\n",
       "  </tbody>\n",
       "</table>\n",
       "</div>"
      ],
      "text/plain": [
       "        Tumor Volume (mm3)\n",
       "mean             50.448381\n",
       "median           48.951474\n",
       "var              79.116074\n",
       "std               8.894722\n",
       "sem               0.204436"
      ]
     },
     "execution_count": 2,
     "metadata": {},
     "output_type": "execute_result"
    }
   ],
   "source": [
    "# Generate a summary statistics table of mean, median, variance, standard deviation, and SEM of the tumor volume for each regimen\n",
    "tumor_summary_stats =pd.DataFrame(mouse_metadata_study_results_combined[\"Tumor Volume (mm3)\"].agg(['mean', 'median', 'var', 'std', 'sem']))\n",
    "\n",
    "tumor_summary_stats"
   ]
  },
  {
   "cell_type": "markdown",
   "metadata": {},
   "source": [
    "## Bar plots"
   ]
  },
  {
   "cell_type": "code",
   "execution_count": 3,
   "metadata": {},
   "outputs": [
    {
     "data": {
      "image/png": "[encoded data removed]",
      "text/plain": [
       "<Figure size 1080x720 with 1 Axes>"
      ]
     },
     "metadata": {
      "needs_background": "light"
     },
     "output_type": "display_data"
    }
   ],
   "source": [
    "# Generate a bar plot showing number of data points for each treatment regimen using pandas\n",
    "tumor_study_result_group = mouse_metadata_study_results_combined.groupby(\"Drug Regimen\")\n",
    "datapoints_per_regimen = pd.DataFrame(tumor_study_result_group[\"Tumor Volume (mm3)\"].count()).rename(columns={\"Tumor Volume (mm3)\": \"Total Datapoints\"})\n",
    "regimen_df = datapoints_per_regimen.rename(columns={\"Drug Regimen\": \"Regimen\"})\n",
    "\n",
    "regimen_df = pd.DataFrame(regimen_df.sort_values(\"Total Datapoints\", ascending=False)).reset_index()\n",
    "\n",
    "\n",
    "colors= [\"yellow\",\"green\",\"lightblue\",\"orange\",\"red\",\"purple\",\"pink\",\"yellowgreen\",\"lightskyblue\",\"lightcoral\"]\n",
    "\n",
    "regimen_df.plot(kind=\"bar\", figsize=(15,10), color=[colors], alpha=0.75, align=\"center\")\n",
    "plt.xticks(rotation=\"0\")\n",
    "\n",
    "# Set title for the chart \n",
    "plt.title(\"Total Datapoints by Regimen\")\n",
    "\n",
    "#set labels for the x and y axis\n",
    "plt.xlabel(\"Treatment Regimen\")\n",
    "plt.ylabel(\"Total Datapoints\")\n",
    "\n",
    "#Show pandas plot\n",
    "plt.show()"
   ]
  },
  {
   "cell_type": "code",
   "execution_count": 4,
   "metadata": {},
   "outputs": [
    {
     "data": {
      "text/plain": [
       "([<matplotlib.axis.XTick at 0x243fa961388>,\n",
       "  <matplotlib.axis.XTick at 0x243fa95ca88>,\n",
       "  <matplotlib.axis.XTick at 0x243fa95c648>,\n",
       "  <matplotlib.axis.XTick at 0x243fa6580c8>,\n",
       "  <matplotlib.axis.XTick at 0x243fa658748>,\n",
       "  <matplotlib.axis.XTick at 0x243fa658f08>,\n",
       "  <matplotlib.axis.XTick at 0x243fa65c588>,\n",
       "  <matplotlib.axis.XTick at 0x243fa65ccc8>,\n",
       "  <matplotlib.axis.XTick at 0x243fa6616c8>,\n",
       "  <matplotlib.axis.XTick at 0x243fa6660c8>],\n",
       " <a list of 10 Text xticklabel objects>)"
      ]
     },
     "execution_count": 4,
     "metadata": {},
     "output_type": "execute_result"
    },
    {
     "data": {
      "image/png": "[encoded data removed]",
      "text/plain": [
       "<Figure size 1080x720 with 1 Axes>"
      ]
     },
     "metadata": {
      "needs_background": "light"
     },
     "output_type": "display_data"
    }
   ],
   "source": [
    "# Generate a bar plot showing number of data points for each treatment regimen using pyplot\n",
    "\n",
    "x_ax = [value for value in regimen_df[\"Drug Regimen\"]]\n",
    "\n",
    "x_axis = np.arange(len(x_ax))\n",
    "tick_locations = [value for value in x_ax]\n",
    "\n",
    "results = [value for value in regimen_df[\"Total Datapoints\"]]\n",
    "\n",
    "\n",
    "# Create a list indicating where to write x labels and set figure size to adjust for space\n",
    "colors= [\"yellow\",\"green\",\"lightblue\",\"orange\",\"red\",\"purple\",\"pink\",\"yellowgreen\",\"lightskyblue\",\"lightcoral\"]\n",
    "plt.figure(figsize=(15,10))\n",
    "plt.bar(x_ax, results, color=colors, alpha=.75, align=\"center\")\n",
    "plt.xlabel(\"Treatment Regimen\")\n",
    "plt.ylabel(\"Total Datapoints\")\n",
    "plt.xticks(tick_locations, x_ax, rotation=\"0\" )\n",
    "\n"
   ]
  },
  {
   "cell_type": "markdown",
   "metadata": {},
   "source": [
    "## Pie plots"
   ]
  },
  {
   "cell_type": "code",
   "execution_count": 5,
   "metadata": {},
   "outputs": [
    {
     "data": {
      "text/plain": [
       "<matplotlib.axes._subplots.AxesSubplot at 0x243fa69ed08>"
      ]
     },
     "execution_count": 5,
     "metadata": {},
     "output_type": "execute_result"
    },
    {
     "data": {
      "image/png": "[encoded data removed]",
      "text/plain": [
       "<Figure size 324x324 with 1 Axes>"
      ]
     },
     "metadata": {},
     "output_type": "display_data"
    }
   ],
   "source": [
    "# Generate a pie plot showing the distribution of female versus male mice using pandas\n",
    "\n",
    "gender_group = mouse_metadata_study_results_combined.groupby(\"Sex\")\n",
    "male_mice = mouse_metadata_study_results_combined.loc[mouse_metadata_study_results_combined[\"Sex\"] == \"Male\"].count()\n",
    "male_count = male_mice[\"Sex\"]\n",
    "\n",
    "female_mice = mouse_metadata_study_results_combined.loc[mouse_metadata_study_results_combined[\"Sex\"] == \"Female\"].count()\n",
    "female_count = female_mice[\"Sex\"]\n",
    "\n",
    "\n",
    "df = pd.DataFrame({\"Count\": [male_count, female_count]},\n",
    "                   index=[\"males\", \"females\"])\n",
    "\n",
    "sizes = [male_count, female_count]\n",
    "\n",
    "colors = [\"lightblue\", \"pink\"]\n",
    "\n",
    "df.plot.pie(y=\"Count\", figsize=(4.5, 4.5), subplots=False, startangle=120, colors=colors, autopct=\"%1.1f%%\", legend=False)\n"
   ]
  },
  {
   "cell_type": "code",
   "execution_count": 6,
   "metadata": {},
   "outputs": [
    {
     "data": {
      "text/plain": [
       "(-1.1108169443723674,\n",
       " 1.13554197729537,\n",
       " -1.1103731586818266,\n",
       " 1.1357968312586944)"
      ]
     },
     "execution_count": 6,
     "metadata": {},
     "output_type": "execute_result"
    },
    {
     "data": {
      "image/png": "[encoded data removed]",
      "text/plain": [
       "<Figure size 432x288 with 1 Axes>"
      ]
     },
     "metadata": {},
     "output_type": "display_data"
    }
   ],
   "source": [
    "# Generate a pie plot showing the distribution of female versus male mice using pyplot\n",
    "\n",
    "# Labels for the sections of our pie chart\n",
    "labels = [\"males\", \"females\"]\n",
    "\n",
    "# The values of each section of the pie chart\n",
    "sizes = [male_count, female_count]\n",
    "\n",
    "# The colors of each section of the pie chart\n",
    "colors = [\"lightblue\", \"pink\"]\n",
    "\n",
    "# Tells matplotlib to seperate the \"Humans\" section from the others\n",
    "#explode = (0.1, 0, 0, 0)\n",
    "\n",
    "plt.pie(sizes, labels=labels, colors=colors,\n",
    "        autopct=\"%1.1f%%\", shadow=False, startangle=120)\n",
    "\n",
    "plt.axis(\"equal\")"
   ]
  },
  {
   "cell_type": "markdown",
   "metadata": {},
   "source": [
    "## Quartiles, outliers and boxplots"
   ]
  },
  {
   "cell_type": "code",
   "execution_count": 7,
   "metadata": {},
   "outputs": [
    {
     "name": "stdout",
     "output_type": "stream",
     "text": [
      "The lower quartile of Tumor Volume in mm3 is: 37.187743802499995\n",
      "The upper quartile of Tumor Volume in mm3 is: 59.930261755000004\n",
      "The interquartile range of Tumor Volume in mm3 is: 22.74251795250001\n",
      "The the median of Tumor Volume in mm3 is: 45.0 \n",
      "Values below 3.0739668737499812 could be outliers.\n",
      "Values above 94.04403868375002 could be outliers.\n",
      "The lower quartile of Capomulin Treatment - Tumor Volume in mm3 is: 32.37735684\n",
      "The upper quartile of Capomulin Treatment - Tumor Volume in mm3 is: 40.1592203\n",
      "The interquartile range of Capomulin Treatment - Tumor Volume in mm3 is: 7.781863460000004\n",
      "The the median of Capomulin Treatment - Tumor Volume in mm3 is: 38.125164399999996 \n",
      "Values below 20.70456164999999 for Capomulin Treatment could be outliers.\n",
      "Values above 51.83201549 for Capomulin Treatment could be outliers.\n",
      "The lower quartile of Ceftamin Treatment - Tumor Volume in mm3 is: 48.72207785\n",
      "The upper quartile of Ceftamin Treatment - Tumor Volume in mm3 is: 64.29983003\n",
      "The interquartile range of Ceftamin Treatment - Tumor Volume in mm3 is: 15.577752179999997\n",
      "The the median of Ceftamin Treatment - Tumor Volume in mm3 is: 59.85195552 \n",
      "Values below 25.355449580000002 for Ceftamin Treatment could be outliers.\n",
      "Values above 87.66645829999999 for Ceftamin Treatment could be outliers.\n",
      "The lower quartile of Infubinol Treatment - Tumor Volume in mm3 is: 54.04860769\n",
      "The upper quartile of Infubinol Treatment - Tumor Volume in mm3 is: 65.52574285\n",
      "The interquartile range of Infubinol Treatment - Tumor Volume in mm3 is: 11.477135160000003\n",
      "The the median of Infubinol Treatment - Tumor Volume in mm3 is: 60.16518046 \n",
      "Values below 36.83290494999999 for Infubinol Treatment could be outliers.\n",
      "Values above 82.74144559000001 for Infubinol Treatment could be outliers.\n",
      "The lower quartile of Ramicane Treatment - Tumor Volume in mm3 is: 31.56046955\n",
      "The upper quartile of Ramicane Treatment - Tumor Volume in mm3 is: 40.65900627\n",
      "The interquartile range of Ramicane Treatment - Tumor Volume in mm3 is: 9.098536719999998\n",
      "The the median of Ramicane Treatment - Tumor Volume in mm3 is: 36.56165229 \n",
      "Values below 17.912664470000003 for Ramicane Treatment could be outliers.\n",
      "Values above 54.30681135 for Ramicane Treatment could be outliers.\n"
     ]
    }
   ],
   "source": [
    "# Calculate the final tumor volume of each mouse across four of the most promising treatment regimens. Calculate the IQR and quantitatively determine if there are any potential outliers. \n",
    "\n",
    "# to get four of the most promising treatment regimens I need to see which Drug Regimen has \n",
    "# shown the largest reduction in the Tumor over the course of the experiment\n",
    "\n",
    "# STEPS:\n",
    "# 1. Get Tumor size at min Time point\n",
    "# 2. Get Tumor size at max Timepoint\n",
    "# 3. Determine which are the 3 most effective Drug Regimen for Reducing the Tumor based on the data\n",
    "# 4. Compare the top 3 with Capomulin, the Drug Regimen we are most interested in\n",
    "\n",
    "\n",
    "# create a structure to group by Mouse ID\n",
    "mouse_grouping = mouse_metadata_study_results_combined.groupby(\"Mouse ID\")\n",
    "\n",
    "#Min Datapoints\n",
    "# get the min and max Timepoint for each mouse in the experiment\n",
    "mouse_min_datapoints = mouse_grouping[\"Timepoint\"].min()\n",
    "\n",
    "# reset the index\n",
    "mouse_min_datapoints.reset_index()\n",
    "\n",
    "#create a data frame to get all the datapoints which correspond to the min(Timepoint) for each Mouse\n",
    "#from the combined dataset\n",
    "mouse_min_df = pd.merge(mouse_min_datapoints, mouse_metadata_study_results_combined, on=[\"Mouse ID\", \"Timepoint\"], how=\"left\")\n",
    "mouse_min_df = mouse_min_df.rename(columns={\"Weight (g)\": \"T0_Weight (g)\", \"Tumor Volume (mm3)\" : \"T0_Tumor Volume (mm3)\",\"Metastatic Sites\" : \"T0_Metastatic Sites\" })\n",
    "\n",
    "#Max Datapoints\n",
    "mouse_max_datapoints = mouse_grouping[\"Timepoint\"].max()\n",
    "# reset the index\n",
    "mouse_max_datapoints.reset_index()\n",
    "#create a data frame to get all the datapoints which correspond to the max(Timepoint) for each Mouse\n",
    "#from the combined dataset\n",
    "mouse_max_df = pd.merge(mouse_max_datapoints, mouse_metadata_study_results_combined, on=[\"Mouse ID\", \"Timepoint\"], how=\"left\")\n",
    "mouse_max_df = mouse_max_df[[\"Mouse ID\", \"Drug Regimen\", \"Tumor Volume (mm3)\",\"Metastatic Sites\" ]]\n",
    "\n",
    "mouse_min_max_df = pd.merge(mouse_min_df, mouse_max_df, on=[\"Mouse ID\", \"Drug Regimen\"], how=\"inner\")\n",
    "mouse_min_max_df[\"Change_in_Tumor_Volume (mm3)\"] = mouse_min_max_df[\"Tumor Volume (mm3)\"] - mouse_min_max_df[\"T0_Tumor Volume (mm3)\"]\n",
    "mouse_min_max_df[\"% Change_in_Tumor_Volume (mm3)\"] = (mouse_min_max_df[\"Change_in_Tumor_Volume (mm3)\"] / mouse_min_max_df[\"T0_Tumor Volume (mm3)\"]) * 100\n",
    "\n",
    "mouse_min_max_df = pd.merge(mouse_min_df, mouse_max_df, on=[\"Mouse ID\", \"Drug Regimen\"], how=\"inner\")\n",
    "mouse_min_max_df[\"Change_in_Tumor_Volume (mm3)\"] = mouse_min_max_df[\"Tumor Volume (mm3)\"] - mouse_min_max_df[\"T0_Tumor Volume (mm3)\"]\n",
    "mouse_min_max_df[\"% Change_in_Tumor_Volume (mm3)\"] = (mouse_min_max_df[\"Change_in_Tumor_Volume (mm3)\"] / mouse_min_max_df[\"T0_Tumor Volume (mm3)\"]) * 100\n",
    "mouse_min_max_df.sort_values(\"% Change_in_Tumor_Volume (mm3)\")\n",
    "\n",
    "# Grooup by Mouse Regimen then isolate the Top 4 Regimen\n",
    "mouse_regimen_group = mouse_min_max_df.groupby(\"Drug Regimen\")\n",
    "\n",
    "regimen_tumor_results = pd.DataFrame(mouse_regimen_group[\"% Change_in_Tumor_Volume (mm3)\"].min())\n",
    "regimen_tumor_results.reset_index()\n",
    "most_promising_regimen = regimen_tumor_results.sort_values(\"% Change_in_Tumor_Volume (mm3)\").head(4)\n",
    "max_datapoints_for_most_promising_regimen = pd.merge(mouse_max_df, most_promising_regimen, on=\"Drug Regimen\", how=\"inner\").filter([\"Mouse ID\", \"Drug Regimen\", \"Tumor Volume (mm3)\", \"Metastatic Sites\"])\n",
    "max_datapoints_for_most_promising_regimen[\"Drug Regimen\"].unique()\n",
    "\n",
    "#RESULTS\n",
    "quartiles = max_datapoints_for_most_promising_regimen[\"Tumor Volume (mm3)\"].quantile([.25,.5,.75])\n",
    "lowerq = quartiles[0.25]\n",
    "upperq = quartiles[.75]\n",
    "iqr = upperq-lowerq\n",
    "\n",
    "print(f\"The lower quartile of Tumor Volume in mm3 is: {lowerq}\")\n",
    "print(f\"The upper quartile of Tumor Volume in mm3 is: {upperq}\")\n",
    "print(f\"The interquartile range of Tumor Volume in mm3 is: {iqr}\")\n",
    "print(f\"The the median of Tumor Volume in mm3 is: {quartiles[0.5]} \")\n",
    "\n",
    "lower_bound = lowerq - (1.5*iqr)\n",
    "upper_bound = upperq + (1.5*iqr)\n",
    "print(f\"Values below {lower_bound} could be outliers.\")\n",
    "print(f\"Values above {upper_bound} could be outliers.\")\n",
    "\n",
    "# Capomulin - Results\n",
    "capo = pd.DataFrame(max_datapoints_for_most_promising_regimen.loc[max_datapoints_for_most_promising_regimen[\"Drug Regimen\"] ==\"Capomulin\"][\"Tumor Volume (mm3)\"])\n",
    "quartiles = capo[\"Tumor Volume (mm3)\"].quantile([.25,.5,.75])\n",
    "lowerq = quartiles[0.25]\n",
    "upperq = quartiles[.75]\n",
    "iqr = upperq-lowerq\n",
    "\n",
    "print(f\"The lower quartile of Capomulin Treatment - Tumor Volume in mm3 is: {lowerq}\")\n",
    "print(f\"The upper quartile of Capomulin Treatment - Tumor Volume in mm3 is: {upperq}\")\n",
    "print(f\"The interquartile range of Capomulin Treatment - Tumor Volume in mm3 is: {iqr}\")\n",
    "print(f\"The the median of Capomulin Treatment - Tumor Volume in mm3 is: {quartiles[0.5]} \")\n",
    "\n",
    "lower_bound = lowerq - (1.5*iqr)\n",
    "upper_bound = upperq + (1.5*iqr)\n",
    "print(f\"Values below {lower_bound} for Capomulin Treatment could be outliers.\")\n",
    "print(f\"Values above {upper_bound} for Capomulin Treatment could be outliers.\")\n",
    "\n",
    "# Ceftamin - Results\n",
    "ceft = pd.DataFrame(max_datapoints_for_most_promising_regimen.loc[max_datapoints_for_most_promising_regimen[\"Drug Regimen\"] ==\"Ceftamin\"][\"Tumor Volume (mm3)\"])\n",
    "\n",
    "quartiles = ceft[\"Tumor Volume (mm3)\"].quantile([.25,.5,.75])\n",
    "lowerq = quartiles[0.25]\n",
    "upperq = quartiles[.75]\n",
    "iqr = upperq-lowerq\n",
    "\n",
    "print(f\"The lower quartile of Ceftamin Treatment - Tumor Volume in mm3 is: {lowerq}\")\n",
    "print(f\"The upper quartile of Ceftamin Treatment - Tumor Volume in mm3 is: {upperq}\")\n",
    "print(f\"The interquartile range of Ceftamin Treatment - Tumor Volume in mm3 is: {iqr}\")\n",
    "print(f\"The the median of Ceftamin Treatment - Tumor Volume in mm3 is: {quartiles[0.5]} \")\n",
    "\n",
    "lower_bound = lowerq - (1.5*iqr)\n",
    "upper_bound = upperq + (1.5*iqr)\n",
    "print(f\"Values below {lower_bound} for Ceftamin Treatment could be outliers.\")\n",
    "print(f\"Values above {upper_bound} for Ceftamin Treatment could be outliers.\")\n",
    "\n",
    "\n",
    "\n",
    "# Infubinol - Results\n",
    "infu = pd.DataFrame(max_datapoints_for_most_promising_regimen.loc[max_datapoints_for_most_promising_regimen[\"Drug Regimen\"] ==\"Infubinol\"][\"Tumor Volume (mm3)\"])\n",
    "quartiles = infu[\"Tumor Volume (mm3)\"].quantile([.25,.5,.75])\n",
    "lowerq = quartiles[0.25]\n",
    "upperq = quartiles[.75]\n",
    "iqr = upperq-lowerq\n",
    "\n",
    "print(f\"The lower quartile of Infubinol Treatment - Tumor Volume in mm3 is: {lowerq}\")\n",
    "print(f\"The upper quartile of Infubinol Treatment - Tumor Volume in mm3 is: {upperq}\")\n",
    "print(f\"The interquartile range of Infubinol Treatment - Tumor Volume in mm3 is: {iqr}\")\n",
    "print(f\"The the median of Infubinol Treatment - Tumor Volume in mm3 is: {quartiles[0.5]} \")\n",
    "\n",
    "lower_bound = lowerq - (1.5*iqr)\n",
    "upper_bound = upperq + (1.5*iqr)\n",
    "print(f\"Values below {lower_bound} for Infubinol Treatment could be outliers.\")\n",
    "print(f\"Values above {upper_bound} for Infubinol Treatment could be outliers.\")\n",
    "\n",
    "#infu_outlier_tumor_results = infu.loc[(infu[\"Tumor Volume (mm3)\"] < lower_bound) | (infu[\"Tumor Volume (mm3)\"] > upper_bound)]\n",
    "#infu_outlier_tumor_results\n",
    "\n",
    "# Ramicane - Results\n",
    "rami = pd.DataFrame(max_datapoints_for_most_promising_regimen.loc[max_datapoints_for_most_promising_regimen[\"Drug Regimen\"] ==\"Ramicane\"][\"Tumor Volume (mm3)\"])\n",
    "\n",
    "quartiles = rami[\"Tumor Volume (mm3)\"].quantile([.25,.5,.75])\n",
    "lowerq = quartiles[0.25]\n",
    "upperq = quartiles[.75]\n",
    "iqr = upperq-lowerq\n",
    "\n",
    "print(f\"The lower quartile of Ramicane Treatment - Tumor Volume in mm3 is: {lowerq}\")\n",
    "print(f\"The upper quartile of Ramicane Treatment - Tumor Volume in mm3 is: {upperq}\")\n",
    "print(f\"The interquartile range of Ramicane Treatment - Tumor Volume in mm3 is: {iqr}\")\n",
    "print(f\"The the median of Ramicane Treatment - Tumor Volume in mm3 is: {quartiles[0.5]} \")\n",
    "\n",
    "lower_bound = lowerq - (1.5*iqr)\n",
    "upper_bound = upperq + (1.5*iqr)\n",
    "print(f\"Values below {lower_bound} for Ramicane Treatment could be outliers.\")\n",
    "print(f\"Values above {upper_bound} for Ramicane Treatment could be outliers.\")\n",
    "\n",
    "#rami_outlier_tumor_results = rami.loc[(rami[\"Tumor Volume (mm3)\"] < lower_bound) | (rami[\"Tumor Volume (mm3)\"] > upper_bound)]\n",
    "#rami_outlier_tumor_results"
   ]
  },
  {
   "cell_type": "code",
   "execution_count": 8,
   "metadata": {},
   "outputs": [
    {
     "data": {
      "image/png": "[encoded data removed]",
      "text/plain": [
       "<Figure size 432x288 with 1 Axes>"
      ]
     },
     "metadata": {
      "needs_background": "light"
     },
     "output_type": "display_data"
    }
   ],
   "source": [
    "# Generate a box plot of the final tumor volume of each mouse across four regimens of interest\n",
    "cap = [values for values in (max_datapoints_for_most_promising_regimen.loc[max_datapoints_for_most_promising_regimen[\"Drug Regimen\"] == \"Capomulin\",\"Tumor Volume (mm3)\"]) ]\n",
    "cef = [values for values in (max_datapoints_for_most_promising_regimen.loc[max_datapoints_for_most_promising_regimen[\"Drug Regimen\"] == \"Ceftamin\",\"Tumor Volume (mm3)\"]) ]\n",
    "inf = [values for values in (max_datapoints_for_most_promising_regimen.loc[max_datapoints_for_most_promising_regimen[\"Drug Regimen\"] == \"Infubinol\",\"Tumor Volume (mm3)\"]) ]\n",
    "ram = [values for values in (max_datapoints_for_most_promising_regimen.loc[max_datapoints_for_most_promising_regimen[\"Drug Regimen\"] == \"Ramicane\",\"Tumor Volume (mm3)\"]) ]\n",
    "drug = [cap, cef, inf, ram]\n",
    "\n",
    "fig1, ax1 = plt.subplots()\n",
    "ax1.set_title('Tumor Test Results')\n",
    "ax1.set_ylabel('Tumor Size')\n",
    "ax1.boxplot(drug)\n",
    "plt.show()"
   ]
  },
  {
   "cell_type": "markdown",
   "metadata": {},
   "source": [
    "## Line and scatter plots"
   ]
  },
  {
   "cell_type": "code",
   "execution_count": 9,
   "metadata": {},
   "outputs": [
    {
     "data": {
      "text/plain": [
       "[<matplotlib.lines.Line2D at 0x243facf0f48>]"
      ]
     },
     "execution_count": 9,
     "metadata": {},
     "output_type": "execute_result"
    },
    {
     "data": {
      "image/png": "[encoded data removed]",
      "text/plain": [
       "<Figure size 432x288 with 1 Axes>"
      ]
     },
     "metadata": {
      "needs_background": "light"
     },
     "output_type": "display_data"
    }
   ],
   "source": [
    "# Generate a line plot of time point versus tumor volume for a mouse treated with Capomulin\n",
    "\n",
    "mrk = dict(markerfacecolor = 'green', markersize =10)\n",
    "#plt.boxplot([capo], labels =['ca'], flierprops = mrk)\n",
    "\n",
    "capo_data = pd.DataFrame(mouse_metadata_study_results_combined.loc[mouse_metadata_study_results_combined[\"Drug Regimen\"]==\"Capomulin\"].groupby(\"Mouse ID\").min().head(1))\n",
    "capo_data.reset_index()\n",
    "\n",
    "# b128\tCapomulin\tFemale\t9\t22\t0\t37.967644\t0\n",
    "mouse_data = pd.DataFrame(mouse_metadata_study_results_combined.loc[mouse_metadata_study_results_combined[\"Drug Regimen\"]==\"Capomulin\"])\n",
    "\n",
    "mouse_datapoints = mouse_data.loc[mouse_data[\"Mouse ID\"]==\"b128\"]\n",
    "# mouse_datapoints\n",
    "\n",
    "plt.plot(mouse_datapoints[\"Timepoint\"], mouse_datapoints[\"Tumor Volume (mm3)\"])"
   ]
  },
  {
   "cell_type": "code",
   "execution_count": 10,
   "metadata": {},
   "outputs": [
    {
     "data": {
      "text/plain": [
       "<matplotlib.collections.PathCollection at 0x243fa68a888>"
      ]
     },
     "execution_count": 10,
     "metadata": {},
     "output_type": "execute_result"
    },
    {
     "data": {
      "image/png": "[encoded data removed]",
      "text/plain": [
       "<Figure size 432x288 with 1 Axes>"
      ]
     },
     "metadata": {
      "needs_background": "light"
     },
     "output_type": "display_data"
    }
   ],
   "source": [
    "# Generate a scatter plot of mouse weight versus average tumor volume for the Capomulin regimen\n",
    "\n",
    "capo_means = mouse_metadata_study_results_combined.loc[mouse_metadata_study_results_combined[\"Drug Regimen\"]==\"Capomulin\"].groupby(\"Mouse ID\").mean()\n",
    "plt.scatter(capo_means[\"Weight (g)\"], capo_means[\"Tumor Volume (mm3)\"])"
   ]
  },
  {
   "cell_type": "code",
   "execution_count": 11,
   "metadata": {},
   "outputs": [
    {
     "data": {
      "text/plain": [
       "[<matplotlib.lines.Line2D at 0x243fadadc48>]"
      ]
     },
     "execution_count": 11,
     "metadata": {},
     "output_type": "execute_result"
    },
    {
     "data": {
      "image/png": "[encoded data removed]",
      "text/plain": [
       "<Figure size 432x288 with 1 Axes>"
      ]
     },
     "metadata": {
      "needs_background": "light"
     },
     "output_type": "display_data"
    }
   ],
   "source": [
    "# Calculate the correlation coefficient and linear regression model for mouse weight and average tumor volume for the Capomulin regimen\n",
    "\n",
    "reg_details = st.linregress(capo_means[\"Weight (g)\"], capo_means[\"Tumor Volume (mm3)\"]) \n",
    "# LinregressResult(slope=0.9544396890241045, intercept=21.552160532685015, rvalue=0.8419363424694718, pvalue=1.3225722434712642e-07, stderr=0.1275435903320134)\n",
    "\n",
    "y_value = capo_means[\"Weight (g)\"] * reg_details[0] + reg_details[1]\n",
    "\n",
    "plt.scatter(capo_means[\"Weight (g)\"], capo_means[\"Tumor Volume (mm3)\"])\n",
    "plt.plot(capo_means[\"Weight (g)\"], y_value, color=\"red\")"
   ]
  },
  {
   "cell_type": "code",
   "execution_count": null,
   "metadata": {},
   "outputs": [],
   "source": []
  }
 ],
 "metadata": {
  "anaconda-cloud": {},
  "kernelspec": {
   "display_name": "Python 3",
   "language": "python",
   "name": "python3"
  },
  "language_info": {
   "codemirror_mode": {
    "name": "ipython",
    "version": 3
   },
   "file_extension": ".py",
   "mimetype": "text/x-python",
   "name": "python",
   "nbconvert_exporter": "python",
   "pygments_lexer": "ipython3",
   "version": "3.7.6"
  }
 },
 "nbformat": 4,
 "nbformat_minor": 2
}
